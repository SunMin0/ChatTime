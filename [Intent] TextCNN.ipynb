{
 "cells": [
  {
   "cell_type": "code",
   "execution_count": null,
   "id": "9509f9b2",
   "metadata": {},
   "outputs": [],
   "source": [
    "from src.dataset import MakeDataset\n",
    "from src.model import MakeEmbed\n",
    "from torch.utils.data import DataLoader\n",
    "\n",
    "\n",
    "dataset = MakeDataset()\n",
    "embed_dataset = dataset.make_embed_dataset()\n",
    "\n",
    "embed = MakeEmbed()\n",
    "embed.word2vec_init()\n",
    "embed.word2vec.build_vocab(embed_dataset)\n",
    "embed.word2vec_train(embed_dataset, epoch=1000)"
   ]
  },
  {
   "cell_type": "code",
   "execution_count": null,
   "id": "4e735fe5",
   "metadata": {},
   "outputs": [],
   "source": [
    "import pandas as pd\n",
    "train_data = pd.read_csv(\"./cafe_intent_data.csv\")\n",
    "train_data.isnull().values.any()\n",
    "len(train_data)\n",
    "print(embed.word2vec.wv.vectors.shape)\n",
    "print(embed.word2vec.wv.vector_size)"
   ]
  },
  {
   "cell_type": "code",
   "execution_count": null,
   "id": "0512dd0e",
   "metadata": {},
   "outputs": [],
   "source": [
    "from src.dataset import MakeDataset\n",
    "from src.model import MakeEmbed\n",
    "from torch.utils.data import DataLoader\n",
    "\n",
    "# 데이터셋 만들기\n",
    "dataset = MakeDataset()\n",
    "\n",
    "# 임베딩 모델 불러오기\n",
    "embed = MakeEmbed()\n",
    "embed.load_word2vec()\n",
    "\n",
    "intent_train_dataset, intent_test_dataset = dataset.make_intent_dataset(embed)\n",
    "\n",
    "batch_size = 128\n",
    "\n",
    "train_dataloader = DataLoader(intent_train_dataset, batch_size=batch_size, shuffle=True)\n",
    "test_dataloader = DataLoader(intent_test_dataset, batch_size=batch_size, shuffle=True)\n",
    "for X, y in train_dataloader:\n",
    "    print(X)\n",
    "    print(y)\n",
    "    break"
   ]
  },
  {
   "cell_type": "code",
   "execution_count": null,
   "id": "4ed37ce5",
   "metadata": {},
   "outputs": [],
   "source": [
    "import torch\n",
    "from src.model import textCNN\n",
    "\n",
    "# 텍스트 CNN 모델 만들기\n",
    "weights = embed.word2vec.wv.vectors\n",
    "weights = torch.FloatTensor(weights)\n",
    "print(weights.shape)\n",
    "num_class = len(dataset.intent_label)\n",
    "print(weights.shape, num_class)\n",
    "textcnn_model = textCNN(weights, 256, [3,4,5], 0.5, num_class)\n",
    "optimizer = torch.optim.Adam(textcnn_model.parameters(), lr=0.01)"
   ]
  },
  {
   "cell_type": "code",
   "execution_count": null,
   "id": "871f1de0",
   "metadata": {},
   "outputs": [],
   "source": [
    "textcnn_model"
   ]
  },
  {
   "cell_type": "code",
   "execution_count": null,
   "id": "3834f84e",
   "metadata": {},
   "outputs": [],
   "source": [
    "print(textcnn_model.embed.weight.shape)\n",
    "print(textcnn_model.embed.weight[:].data.shape)\n",
    "print(textcnn_model.w2v.shape)\n",
    "print(textcnn_model.vocab_size)\n",
    "print(textcnn_model.emb_dim)\n",
    "print(textcnn_model.embed)\n",
    "for X,y in train_dataloader:\n",
    "    print(X.shape)\n",
    "    print(y.shape)\n",
    "    break"
   ]
  },
  {
   "cell_type": "code",
   "execution_count": null,
   "id": "2a4480ea",
   "metadata": {
    "scrolled": false
   },
   "outputs": [],
   "source": [
    "!pip install tqdm\n",
    "from tqdm import tqdm\n",
    "from tqdm import trange\n",
    "import os\n",
    "import torch.nn.functional as F\n",
    "\n",
    "epoch = 100\n",
    "prev_acc = 0\n",
    "save_dir = \"./nlp/pretrained/\"\n",
    "save_prefix = \"cafe_intent_clsf\"\n",
    "\n",
    "def save(model, save_dir, save_prefix, epoch):\n",
    "    if not os.path.isdir(save_dir):\n",
    "        os.makedirs(save_dir)\n",
    "    save_prefix = os.path.join(save_dir, save_prefix)\n",
    "    save_path = '{}_steps_{}.pt'.format(save_prefix, epoch)\n",
    "    torch.save(model.state_dict(), save_path)\n",
    "\n",
    "for i in range(epoch):\n",
    "    steps = 0\n",
    "\n",
    "    textcnn_model.train() # 모델 학습 하겠다. (parameters가 수정됨)\n",
    "\n",
    "    with tqdm(train_dataloader, unit=\"batch\") as tepoch: # 진행상황 표시\n",
    "        for data in tepoch:\n",
    "            tepoch.set_description(f\"Epoch {i}\")\n",
    "            x = data[0]\n",
    "            target = data[1]\n",
    "            logit = textcnn_model.forward(x)\n",
    "\n",
    "            optimizer.zero_grad()\n",
    "            loss = F.cross_entropy(logit, target) \n",
    "            loss.backward()\n",
    "            optimizer.step()\n",
    "\n",
    "            corrects = (torch.max(logit, 1)[1].view(target.size()).data == target.data).sum()\n",
    "            accuracy = 100.0 * corrects/x.size()[0]\n",
    "            tepoch.set_postfix(loss=loss.item(), accuracy= accuracy.numpy())\n",
    "\n",
    "    textcnn_model.eval() # 모델 검증하겠다 (parameters 수정안됨)\n",
    "    steps = 0\n",
    "    accuarcy_list = []\n",
    "    with tqdm(test_dataloader, unit=\"batch\") as tepoch:\n",
    "        for data in tepoch:\n",
    "            tepoch.set_description(f\"Epoch {i}\")\n",
    "            x = data[0]\n",
    "            target = data[1]\n",
    "\n",
    "            logit = textcnn_model.forward(x)\n",
    "            loss = F.cross_entropy(logit, target)\n",
    "            corrects = (torch.max(logit, 1)[1].view(target.size()).data == target.data).sum()\n",
    "            accuracy = 100.0 * corrects/x.size()[0]\n",
    "            accuarcy_list.append(accuracy.tolist())\n",
    "\n",
    "            tepoch.set_postfix(loss=loss.item(), accuracy= sum(accuarcy_list)/len(accuarcy_list))\n",
    "\n",
    "    # epoch 당 검증 셋의 정확도를 계산하고 이전 정확도 보다 높으면 저장\n",
    "    acc = sum(accuarcy_list)/len(accuarcy_list)\n",
    "    if(acc>prev_acc):\n",
    "        prev_acc = acc\n",
    "        save(textcnn_model, save_dir, save_prefix+\"_\"+str(round(acc,3)), i)"
   ]
  },
  {
   "cell_type": "code",
   "execution_count": 3,
   "id": "c86f2255",
   "metadata": {
    "scrolled": true
   },
   "outputs": [
    {
     "name": "stdout",
     "output_type": "stream",
     "text": [
      "밀크티 다섯잔 주세요\n",
      "intent: 일반주문\n",
      "predict: [[19, 22, 0]]\n",
      "nlu_result: {'INTENT': '일반주문', 'SLOT': ['TEA^밀크티', 'COUNT^다섯잔']}\n",
      "templates: []\n",
      "result: []\n"
     ]
    },
    {
     "data": {
      "text/plain": [
       "[]"
      ]
     },
     "execution_count": 3,
     "metadata": {},
     "output_type": "execute_result"
    }
   ],
   "source": [
    "import torch\n",
    "import re\n",
    "from src.NLU import NaturalLanguageUnderstanding\n",
    "from src.NLG import NaturalLanguageGenerator\n",
    "\n",
    "text = \"밀크티 다섯잔만 주세요\"\n",
    "text = re.sub('[-=+,#/\\?:^$.@*\\\"※~&%ㆍ!』\\\\‘|\\(\\)\\[\\]\\<\\>`\\'…》]', '', text) # 특수문자 제거\n",
    "text = re.sub('만 ',' ',text)\n",
    "text = re.sub('쥬스','주스',text)\n",
    "text = re.sub('티라미수','티라미슈',text)\n",
    "text = re.sub('티라미스','티라미슈',text)\n",
    "text = re.sub('마키아토','마끼아또',text)\n",
    "text = re.sub('캐러멜','카라멜',text)\n",
    "print(text)\n",
    "nlg = NaturalLanguageGenerator()\n",
    "nlg.run_nlg(text)"
   ]
  },
  {
   "cell_type": "code",
   "execution_count": null,
   "id": "2b4962b0",
   "metadata": {},
   "outputs": [],
   "source": []
  }
 ],
 "metadata": {
  "kernelspec": {
   "display_name": "Python 3 (ipykernel)",
   "language": "python",
   "name": "python3"
  },
  "language_info": {
   "codemirror_mode": {
    "name": "ipython",
    "version": 3
   },
   "file_extension": ".py",
   "mimetype": "text/x-python",
   "name": "python",
   "nbconvert_exporter": "python",
   "pygments_lexer": "ipython3",
   "version": "3.9.7"
  }
 },
 "nbformat": 4,
 "nbformat_minor": 5
}
