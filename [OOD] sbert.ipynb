{
 "cells": [
  {
   "cell_type": "code",
   "execution_count": 1,
   "id": "536e6989",
   "metadata": {
    "scrolled": true
   },
   "outputs": [
    {
     "name": "stdout",
     "output_type": "stream",
     "text": [
      "Collecting sentence_transformers\n",
      "  Downloading sentence-transformers-2.2.0.tar.gz (79 kB)\n",
      "     -------------------------------------- 79.7/79.7 KB 555.4 kB/s eta 0:00:00\n",
      "  Preparing metadata (setup.py): started\n",
      "  Preparing metadata (setup.py): finished with status 'done'\n",
      "Collecting transformers<5.0.0,>=4.6.0\n",
      "  Downloading transformers-4.19.2-py3-none-any.whl (4.2 MB)\n",
      "     ---------------------------------------- 4.2/4.2 MB 6.8 MB/s eta 0:00:00\n",
      "Requirement already satisfied: tqdm in c:\\pythonproject\\nlu_chatbot\\venv\\lib\\site-packages (from sentence_transformers) (4.64.0)\n",
      "Requirement already satisfied: torch>=1.6.0 in c:\\pythonproject\\nlu_chatbot\\venv\\lib\\site-packages (from sentence_transformers) (1.11.0)\n",
      "Collecting torchvision\n",
      "  Downloading torchvision-0.12.0-cp39-cp39-win_amd64.whl (1.0 MB)\n",
      "     ---------------------------------------- 1.0/1.0 MB 4.6 MB/s eta 0:00:00\n",
      "Requirement already satisfied: numpy in c:\\pythonproject\\nlu_chatbot\\venv\\lib\\site-packages (from sentence_transformers) (1.22.3)\n",
      "Collecting scikit-learn\n",
      "  Downloading scikit_learn-1.1.1-cp39-cp39-win_amd64.whl (7.4 MB)\n",
      "     ---------------------------------------- 7.4/7.4 MB 6.9 MB/s eta 0:00:00\n",
      "Requirement already satisfied: scipy in c:\\pythonproject\\nlu_chatbot\\venv\\lib\\site-packages (from sentence_transformers) (1.8.0)\n",
      "Collecting nltk\n",
      "  Using cached nltk-3.7-py3-none-any.whl (1.5 MB)\n",
      "Collecting sentencepiece\n",
      "  Downloading sentencepiece-0.1.96-cp39-cp39-win_amd64.whl (1.1 MB)\n",
      "     ---------------------------------------- 1.1/1.1 MB 4.9 MB/s eta 0:00:00\n",
      "Collecting huggingface-hub\n",
      "  Downloading huggingface_hub-0.6.0-py3-none-any.whl (84 kB)\n",
      "     ---------------------------------------- 84.4/84.4 KB 1.2 MB/s eta 0:00:00\n",
      "Requirement already satisfied: typing-extensions in c:\\pythonproject\\nlu_chatbot\\venv\\lib\\site-packages (from torch>=1.6.0->sentence_transformers) (4.2.0)\n",
      "Requirement already satisfied: requests in c:\\pythonproject\\nlu_chatbot\\venv\\lib\\site-packages (from transformers<5.0.0,>=4.6.0->sentence_transformers) (2.27.1)\n",
      "Collecting pyyaml>=5.1\n",
      "  Downloading PyYAML-6.0-cp39-cp39-win_amd64.whl (151 kB)\n",
      "     -------------------------------------- 151.6/151.6 KB 1.5 MB/s eta 0:00:00\n",
      "Collecting regex!=2019.12.17\n",
      "  Downloading regex-2022.4.24-cp39-cp39-win_amd64.whl (262 kB)\n",
      "     -------------------------------------- 262.1/262.1 KB 2.3 MB/s eta 0:00:00\n",
      "Collecting filelock\n",
      "  Downloading filelock-3.7.0-py3-none-any.whl (10 kB)\n",
      "Requirement already satisfied: packaging>=20.0 in c:\\pythonproject\\nlu_chatbot\\venv\\lib\\site-packages (from transformers<5.0.0,>=4.6.0->sentence_transformers) (21.3)\n",
      "Collecting tokenizers!=0.11.3,<0.13,>=0.11.1\n",
      "  Downloading tokenizers-0.12.1-cp39-cp39-win_amd64.whl (3.3 MB)\n",
      "     ---------------------------------------- 3.3/3.3 MB 6.3 MB/s eta 0:00:00\n",
      "Requirement already satisfied: colorama in c:\\pythonproject\\nlu_chatbot\\venv\\lib\\site-packages (from tqdm->sentence_transformers) (0.4.4)\n",
      "Collecting joblib\n",
      "  Using cached joblib-1.1.0-py2.py3-none-any.whl (306 kB)\n",
      "Collecting click\n",
      "  Downloading click-8.1.3-py3-none-any.whl (96 kB)\n",
      "     ---------------------------------------- 96.6/96.6 KB 1.4 MB/s eta 0:00:00\n",
      "Collecting threadpoolctl>=2.0.0\n",
      "  Using cached threadpoolctl-3.1.0-py3-none-any.whl (14 kB)\n",
      "Collecting pillow!=8.3.*,>=5.3.0\n",
      "  Downloading Pillow-9.1.1-cp39-cp39-win_amd64.whl (3.3 MB)\n",
      "     ---------------------------------------- 3.3/3.3 MB 7.5 MB/s eta 0:00:00\n",
      "Requirement already satisfied: pyparsing!=3.0.5,>=2.0.2 in c:\\pythonproject\\nlu_chatbot\\venv\\lib\\site-packages (from packaging>=20.0->transformers<5.0.0,>=4.6.0->sentence_transformers) (3.0.9)\n",
      "Requirement already satisfied: certifi>=2017.4.17 in c:\\pythonproject\\nlu_chatbot\\venv\\lib\\site-packages (from requests->transformers<5.0.0,>=4.6.0->sentence_transformers) (2021.10.8)\n",
      "Requirement already satisfied: charset-normalizer~=2.0.0 in c:\\pythonproject\\nlu_chatbot\\venv\\lib\\site-packages (from requests->transformers<5.0.0,>=4.6.0->sentence_transformers) (2.0.12)\n",
      "Requirement already satisfied: urllib3<1.27,>=1.21.1 in c:\\pythonproject\\nlu_chatbot\\venv\\lib\\site-packages (from requests->transformers<5.0.0,>=4.6.0->sentence_transformers) (1.26.9)\n",
      "Requirement already satisfied: idna<4,>=2.5 in c:\\pythonproject\\nlu_chatbot\\venv\\lib\\site-packages (from requests->transformers<5.0.0,>=4.6.0->sentence_transformers) (3.3)\n",
      "Building wheels for collected packages: sentence_transformers\n",
      "  Building wheel for sentence_transformers (setup.py): started\n",
      "  Building wheel for sentence_transformers (setup.py): finished with status 'done'\n",
      "  Created wheel for sentence_transformers: filename=sentence_transformers-2.2.0-py3-none-any.whl size=120747 sha256=7dfcd06f02cccb5f18c7b15dd028ae4e5676b135b0a67ef52d9e6a60b847aaf1\n",
      "  Stored in directory: c:\\users\\slinfo\\appdata\\local\\pip\\cache\\wheels\\2b\\11\\3b\\32a18fb9f2253b25d3d1a06f0a84e2d516e7efa19c8c71a283\n",
      "Successfully built sentence_transformers\n",
      "Installing collected packages: tokenizers, sentencepiece, threadpoolctl, regex, pyyaml, pillow, joblib, filelock, click, torchvision, scikit-learn, nltk, huggingface-hub, transformers, sentence_transformers\n",
      "Successfully installed click-8.1.3 filelock-3.7.0 huggingface-hub-0.6.0 joblib-1.1.0 nltk-3.7 pillow-9.1.1 pyyaml-6.0 regex-2022.4.24 scikit-learn-1.1.1 sentence_transformers-2.2.0 sentencepiece-0.1.96 threadpoolctl-3.1.0 tokenizers-0.12.1 torchvision-0.12.0 transformers-4.19.2\n"
     ]
    },
    {
     "name": "stderr",
     "output_type": "stream",
     "text": [
      "WARNING: You are using pip version 22.0.4; however, version 22.1 is available.\n",
      "You should consider upgrading via the 'c:\\pythonproject\\nlu_chatbot\\venv\\scripts\\python.exe -m pip install --upgrade pip' command.\n"
     ]
    }
   ],
   "source": [
    "!pip install sentence_transformers"
   ]
  },
  {
   "cell_type": "code",
   "execution_count": 2,
   "id": "503c72b1",
   "metadata": {},
   "outputs": [
    {
     "data": {
      "text/html": [
       "<div>\n",
       "<style scoped>\n",
       "    .dataframe tbody tr th:only-of-type {\n",
       "        vertical-align: middle;\n",
       "    }\n",
       "\n",
       "    .dataframe tbody tr th {\n",
       "        vertical-align: top;\n",
       "    }\n",
       "\n",
       "    .dataframe thead th {\n",
       "        text-align: right;\n",
       "    }\n",
       "</style>\n",
       "<table border=\"1\" class=\"dataframe\">\n",
       "  <thead>\n",
       "    <tr style=\"text-align: right;\">\n",
       "      <th></th>\n",
       "      <th>Q</th>\n",
       "      <th>A</th>\n",
       "      <th>label</th>\n",
       "    </tr>\n",
       "  </thead>\n",
       "  <tbody>\n",
       "    <tr>\n",
       "      <th>0</th>\n",
       "      <td>12시 땡!</td>\n",
       "      <td>하루가 또 가네요.</td>\n",
       "      <td>0</td>\n",
       "    </tr>\n",
       "    <tr>\n",
       "      <th>1</th>\n",
       "      <td>1지망 학교 떨어졌어</td>\n",
       "      <td>위로해 드립니다.</td>\n",
       "      <td>0</td>\n",
       "    </tr>\n",
       "    <tr>\n",
       "      <th>2</th>\n",
       "      <td>3박4일 놀러가고 싶다</td>\n",
       "      <td>여행은 언제나 좋죠.</td>\n",
       "      <td>0</td>\n",
       "    </tr>\n",
       "    <tr>\n",
       "      <th>3</th>\n",
       "      <td>3박4일 정도 놀러가고 싶다</td>\n",
       "      <td>여행은 언제나 좋죠.</td>\n",
       "      <td>0</td>\n",
       "    </tr>\n",
       "    <tr>\n",
       "      <th>4</th>\n",
       "      <td>PPL 심하네</td>\n",
       "      <td>눈살이 찌푸려지죠.</td>\n",
       "      <td>0</td>\n",
       "    </tr>\n",
       "  </tbody>\n",
       "</table>\n",
       "</div>"
      ],
      "text/plain": [
       "                 Q            A  label\n",
       "0           12시 땡!   하루가 또 가네요.      0\n",
       "1      1지망 학교 떨어졌어    위로해 드립니다.      0\n",
       "2     3박4일 놀러가고 싶다  여행은 언제나 좋죠.      0\n",
       "3  3박4일 정도 놀러가고 싶다  여행은 언제나 좋죠.      0\n",
       "4          PPL 심하네   눈살이 찌푸려지죠.      0"
      ]
     },
     "execution_count": 2,
     "metadata": {},
     "output_type": "execute_result"
    }
   ],
   "source": [
    "from sentence_transformers import SentenceTransformer\n",
    "import pandas as pd\n",
    "\n",
    "train_data = pd.read_csv('ChatBotData.csv')\n",
    "train_data.head()"
   ]
  },
  {
   "cell_type": "code",
   "execution_count": 3,
   "id": "6e62d8ab",
   "metadata": {},
   "outputs": [
    {
     "data": {
      "application/vnd.jupyter.widget-view+json": {
       "model_id": "e87472ac6bbd4a38b39bb5137b530826",
       "version_major": 2,
       "version_minor": 0
      },
      "text/plain": [
       "Downloading:   0%|          | 0.00/574 [00:00<?, ?B/s]"
      ]
     },
     "metadata": {},
     "output_type": "display_data"
    },
    {
     "data": {
      "application/vnd.jupyter.widget-view+json": {
       "model_id": "92c64bdfa61d476eaf34f73349075fd0",
       "version_major": 2,
       "version_minor": 0
      },
      "text/plain": [
       "Downloading:   0%|          | 0.00/190 [00:00<?, ?B/s]"
      ]
     },
     "metadata": {},
     "output_type": "display_data"
    },
    {
     "data": {
      "application/vnd.jupyter.widget-view+json": {
       "model_id": "5fba2e10e40f411cb46cc78d4a25a00d",
       "version_major": 2,
       "version_minor": 0
      },
      "text/plain": [
       "Downloading:   0%|          | 0.00/4.06k [00:00<?, ?B/s]"
      ]
     },
     "metadata": {},
     "output_type": "display_data"
    },
    {
     "data": {
      "application/vnd.jupyter.widget-view+json": {
       "model_id": "ee9a44f676034003b6a1a23039ba8eda",
       "version_major": 2,
       "version_minor": 0
      },
      "text/plain": [
       "Downloading:   0%|          | 0.00/731 [00:00<?, ?B/s]"
      ]
     },
     "metadata": {},
     "output_type": "display_data"
    },
    {
     "data": {
      "application/vnd.jupyter.widget-view+json": {
       "model_id": "7d3752ef501145a7824da0d3034262c8",
       "version_major": 2,
       "version_minor": 0
      },
      "text/plain": [
       "Downloading:   0%|          | 0.00/122 [00:00<?, ?B/s]"
      ]
     },
     "metadata": {},
     "output_type": "display_data"
    },
    {
     "data": {
      "application/vnd.jupyter.widget-view+json": {
       "model_id": "e091d69a7d154678aa434bf0c88334ee",
       "version_major": 2,
       "version_minor": 0
      },
      "text/plain": [
       "Downloading:   0%|          | 0.00/229 [00:00<?, ?B/s]"
      ]
     },
     "metadata": {},
     "output_type": "display_data"
    },
    {
     "data": {
      "application/vnd.jupyter.widget-view+json": {
       "model_id": "dffe1a30ba984cc4baba75ece3beee0c",
       "version_major": 2,
       "version_minor": 0
      },
      "text/plain": [
       "Downloading:   0%|          | 0.00/1.11G [00:00<?, ?B/s]"
      ]
     },
     "metadata": {},
     "output_type": "display_data"
    },
    {
     "data": {
      "application/vnd.jupyter.widget-view+json": {
       "model_id": "732f1800c8be4937855880dec36f5738",
       "version_major": 2,
       "version_minor": 0
      },
      "text/plain": [
       "Downloading:   0%|          | 0.00/53.0 [00:00<?, ?B/s]"
      ]
     },
     "metadata": {},
     "output_type": "display_data"
    },
    {
     "data": {
      "application/vnd.jupyter.widget-view+json": {
       "model_id": "222999bddb76429a8dd18908f6aef29a",
       "version_major": 2,
       "version_minor": 0
      },
      "text/plain": [
       "Downloading:   0%|          | 0.00/5.07M [00:00<?, ?B/s]"
      ]
     },
     "metadata": {},
     "output_type": "display_data"
    },
    {
     "data": {
      "application/vnd.jupyter.widget-view+json": {
       "model_id": "e451493f44aa40298abc164d8f4df5e8",
       "version_major": 2,
       "version_minor": 0
      },
      "text/plain": [
       "Downloading:   0%|          | 0.00/150 [00:00<?, ?B/s]"
      ]
     },
     "metadata": {},
     "output_type": "display_data"
    },
    {
     "data": {
      "application/vnd.jupyter.widget-view+json": {
       "model_id": "bd1915042ee74acc8b627844d3b8651e",
       "version_major": 2,
       "version_minor": 0
      },
      "text/plain": [
       "Downloading:   0%|          | 0.00/9.10M [00:00<?, ?B/s]"
      ]
     },
     "metadata": {},
     "output_type": "display_data"
    },
    {
     "data": {
      "application/vnd.jupyter.widget-view+json": {
       "model_id": "39a04adefc0a495489e03bb2459f1666",
       "version_major": 2,
       "version_minor": 0
      },
      "text/plain": [
       "Downloading:   0%|          | 0.00/527 [00:00<?, ?B/s]"
      ]
     },
     "metadata": {},
     "output_type": "display_data"
    }
   ],
   "source": [
    "model = SentenceTransformer('sentence-transformers/xlm-r-100langs-bert-base-nli-stsb-mean-tokens')"
   ]
  },
  {
   "cell_type": "code",
   "execution_count": 4,
   "id": "682456d4",
   "metadata": {},
   "outputs": [],
   "source": [
    "train_data['embedding'] = train_data.apply(lambda row: model.encode(row.Q), axis = 1)"
   ]
  },
  {
   "cell_type": "code",
   "execution_count": 5,
   "id": "766c5b62",
   "metadata": {},
   "outputs": [
    {
     "data": {
      "text/html": [
       "<div>\n",
       "<style scoped>\n",
       "    .dataframe tbody tr th:only-of-type {\n",
       "        vertical-align: middle;\n",
       "    }\n",
       "\n",
       "    .dataframe tbody tr th {\n",
       "        vertical-align: top;\n",
       "    }\n",
       "\n",
       "    .dataframe thead th {\n",
       "        text-align: right;\n",
       "    }\n",
       "</style>\n",
       "<table border=\"1\" class=\"dataframe\">\n",
       "  <thead>\n",
       "    <tr style=\"text-align: right;\">\n",
       "      <th></th>\n",
       "      <th>Q</th>\n",
       "      <th>A</th>\n",
       "      <th>label</th>\n",
       "      <th>embedding</th>\n",
       "    </tr>\n",
       "  </thead>\n",
       "  <tbody>\n",
       "    <tr>\n",
       "      <th>0</th>\n",
       "      <td>12시 땡!</td>\n",
       "      <td>하루가 또 가네요.</td>\n",
       "      <td>0</td>\n",
       "      <td>[0.20179586, -0.03443806, 1.5395724, 0.0106974...</td>\n",
       "    </tr>\n",
       "    <tr>\n",
       "      <th>1</th>\n",
       "      <td>1지망 학교 떨어졌어</td>\n",
       "      <td>위로해 드립니다.</td>\n",
       "      <td>0</td>\n",
       "      <td>[0.07716595, -0.034278158, 0.8624427, 0.026360...</td>\n",
       "    </tr>\n",
       "    <tr>\n",
       "      <th>2</th>\n",
       "      <td>3박4일 놀러가고 싶다</td>\n",
       "      <td>여행은 언제나 좋죠.</td>\n",
       "      <td>0</td>\n",
       "      <td>[0.10445247, -0.012432211, 1.0132878, 0.022501...</td>\n",
       "    </tr>\n",
       "    <tr>\n",
       "      <th>3</th>\n",
       "      <td>3박4일 정도 놀러가고 싶다</td>\n",
       "      <td>여행은 언제나 좋죠.</td>\n",
       "      <td>0</td>\n",
       "      <td>[0.097607486, -0.04671682, 0.89369416, 0.02104...</td>\n",
       "    </tr>\n",
       "    <tr>\n",
       "      <th>4</th>\n",
       "      <td>PPL 심하네</td>\n",
       "      <td>눈살이 찌푸려지죠.</td>\n",
       "      <td>0</td>\n",
       "      <td>[-0.070028596, 0.03196111, 1.491543, 4.3436885...</td>\n",
       "    </tr>\n",
       "  </tbody>\n",
       "</table>\n",
       "</div>"
      ],
      "text/plain": [
       "                 Q            A  label  \\\n",
       "0           12시 땡!   하루가 또 가네요.      0   \n",
       "1      1지망 학교 떨어졌어    위로해 드립니다.      0   \n",
       "2     3박4일 놀러가고 싶다  여행은 언제나 좋죠.      0   \n",
       "3  3박4일 정도 놀러가고 싶다  여행은 언제나 좋죠.      0   \n",
       "4          PPL 심하네   눈살이 찌푸려지죠.      0   \n",
       "\n",
       "                                           embedding  \n",
       "0  [0.20179586, -0.03443806, 1.5395724, 0.0106974...  \n",
       "1  [0.07716595, -0.034278158, 0.8624427, 0.026360...  \n",
       "2  [0.10445247, -0.012432211, 1.0132878, 0.022501...  \n",
       "3  [0.097607486, -0.04671682, 0.89369416, 0.02104...  \n",
       "4  [-0.070028596, 0.03196111, 1.491543, 4.3436885...  "
      ]
     },
     "execution_count": 5,
     "metadata": {},
     "output_type": "execute_result"
    }
   ],
   "source": [
    "train_data.head()"
   ]
  },
  {
   "cell_type": "code",
   "execution_count": 6,
   "id": "7dd24e9e",
   "metadata": {},
   "outputs": [],
   "source": [
    "from numpy import dot\n",
    "from numpy.linalg import norm\n",
    "\n",
    "def cos_sim(A, B):\n",
    "    return dot(A, B)/(norm(A)*norm(B))"
   ]
  },
  {
   "cell_type": "code",
   "execution_count": 46,
   "id": "e344e729",
   "metadata": {},
   "outputs": [],
   "source": [
    "def return_answer(question):\n",
    "    embedding = model.encode(question)\n",
    "    print(\"embedding:\",embedding)\n",
    "    train_data['score'] = train_data.apply(lambda x: cos_sim(x['embedding'], embedding), axis=1)\n",
    "    return train_data.loc[train_data['score'].idxmax()]['A']"
   ]
  },
  {
   "cell_type": "code",
   "execution_count": 43,
   "id": "a531fe1f",
   "metadata": {
    "scrolled": true
   },
   "outputs": [
    {
     "data": {
      "text/html": [
       "<div>\n",
       "<style scoped>\n",
       "    .dataframe tbody tr th:only-of-type {\n",
       "        vertical-align: middle;\n",
       "    }\n",
       "\n",
       "    .dataframe tbody tr th {\n",
       "        vertical-align: top;\n",
       "    }\n",
       "\n",
       "    .dataframe thead th {\n",
       "        text-align: right;\n",
       "    }\n",
       "</style>\n",
       "<table border=\"1\" class=\"dataframe\">\n",
       "  <thead>\n",
       "    <tr style=\"text-align: right;\">\n",
       "      <th></th>\n",
       "      <th>Q</th>\n",
       "      <th>A</th>\n",
       "      <th>label</th>\n",
       "      <th>embedding</th>\n",
       "      <th>score</th>\n",
       "    </tr>\n",
       "  </thead>\n",
       "  <tbody>\n",
       "    <tr>\n",
       "      <th>0</th>\n",
       "      <td>12시 땡!</td>\n",
       "      <td>하루가 또 가네요.</td>\n",
       "      <td>0</td>\n",
       "      <td>[0.20179586, -0.03443806, 1.5395724, 0.0106974...</td>\n",
       "      <td>0.362519</td>\n",
       "    </tr>\n",
       "    <tr>\n",
       "      <th>1</th>\n",
       "      <td>1지망 학교 떨어졌어</td>\n",
       "      <td>위로해 드립니다.</td>\n",
       "      <td>0</td>\n",
       "      <td>[0.07716595, -0.034278158, 0.8624427, 0.026360...</td>\n",
       "      <td>0.411859</td>\n",
       "    </tr>\n",
       "    <tr>\n",
       "      <th>2</th>\n",
       "      <td>3박4일 놀러가고 싶다</td>\n",
       "      <td>여행은 언제나 좋죠.</td>\n",
       "      <td>0</td>\n",
       "      <td>[0.10445247, -0.012432211, 1.0132878, 0.022501...</td>\n",
       "      <td>0.376291</td>\n",
       "    </tr>\n",
       "    <tr>\n",
       "      <th>3</th>\n",
       "      <td>3박4일 정도 놀러가고 싶다</td>\n",
       "      <td>여행은 언제나 좋죠.</td>\n",
       "      <td>0</td>\n",
       "      <td>[0.097607486, -0.04671682, 0.89369416, 0.02104...</td>\n",
       "      <td>0.354988</td>\n",
       "    </tr>\n",
       "    <tr>\n",
       "      <th>4</th>\n",
       "      <td>PPL 심하네</td>\n",
       "      <td>눈살이 찌푸려지죠.</td>\n",
       "      <td>0</td>\n",
       "      <td>[-0.070028596, 0.03196111, 1.491543, 4.3436885...</td>\n",
       "      <td>0.341996</td>\n",
       "    </tr>\n",
       "    <tr>\n",
       "      <th>...</th>\n",
       "      <td>...</td>\n",
       "      <td>...</td>\n",
       "      <td>...</td>\n",
       "      <td>...</td>\n",
       "      <td>...</td>\n",
       "    </tr>\n",
       "    <tr>\n",
       "      <th>11818</th>\n",
       "      <td>훔쳐보는 것도 눈치 보임.</td>\n",
       "      <td>티가 나니까 눈치가 보이는 거죠!</td>\n",
       "      <td>2</td>\n",
       "      <td>[0.15363283, -0.32605585, 0.69876784, 0.109140...</td>\n",
       "      <td>0.261393</td>\n",
       "    </tr>\n",
       "    <tr>\n",
       "      <th>11819</th>\n",
       "      <td>훔쳐보는 것도 눈치 보임.</td>\n",
       "      <td>훔쳐보는 거 티나나봐요.</td>\n",
       "      <td>2</td>\n",
       "      <td>[0.15363283, -0.32605585, 0.69876784, 0.109140...</td>\n",
       "      <td>0.261393</td>\n",
       "    </tr>\n",
       "    <tr>\n",
       "      <th>11820</th>\n",
       "      <td>흑기사 해주는 짝남.</td>\n",
       "      <td>설렜겠어요.</td>\n",
       "      <td>2</td>\n",
       "      <td>[-0.036085162, -0.0052649253, 0.89135385, -0.0...</td>\n",
       "      <td>0.326252</td>\n",
       "    </tr>\n",
       "    <tr>\n",
       "      <th>11821</th>\n",
       "      <td>힘든 연애 좋은 연애라는게 무슨 차이일까?</td>\n",
       "      <td>잘 헤어질 수 있는 사이 여부인 거 같아요.</td>\n",
       "      <td>2</td>\n",
       "      <td>[-0.0846866, -0.14302923, 0.115261175, 0.38679...</td>\n",
       "      <td>0.011894</td>\n",
       "    </tr>\n",
       "    <tr>\n",
       "      <th>11822</th>\n",
       "      <td>힘들어서 결혼할까봐</td>\n",
       "      <td>도피성 결혼은 하지 않길 바라요.</td>\n",
       "      <td>2</td>\n",
       "      <td>[0.108208016, -0.08951269, 0.80524796, 0.04636...</td>\n",
       "      <td>0.337048</td>\n",
       "    </tr>\n",
       "  </tbody>\n",
       "</table>\n",
       "<p>11823 rows × 5 columns</p>\n",
       "</div>"
      ],
      "text/plain": [
       "                             Q                         A  label  \\\n",
       "0                       12시 땡!                하루가 또 가네요.      0   \n",
       "1                  1지망 학교 떨어졌어                 위로해 드립니다.      0   \n",
       "2                 3박4일 놀러가고 싶다               여행은 언제나 좋죠.      0   \n",
       "3              3박4일 정도 놀러가고 싶다               여행은 언제나 좋죠.      0   \n",
       "4                      PPL 심하네                눈살이 찌푸려지죠.      0   \n",
       "...                        ...                       ...    ...   \n",
       "11818           훔쳐보는 것도 눈치 보임.        티가 나니까 눈치가 보이는 거죠!      2   \n",
       "11819           훔쳐보는 것도 눈치 보임.             훔쳐보는 거 티나나봐요.      2   \n",
       "11820              흑기사 해주는 짝남.                    설렜겠어요.      2   \n",
       "11821  힘든 연애 좋은 연애라는게 무슨 차이일까?  잘 헤어질 수 있는 사이 여부인 거 같아요.      2   \n",
       "11822               힘들어서 결혼할까봐        도피성 결혼은 하지 않길 바라요.      2   \n",
       "\n",
       "                                               embedding     score  \n",
       "0      [0.20179586, -0.03443806, 1.5395724, 0.0106974...  0.362519  \n",
       "1      [0.07716595, -0.034278158, 0.8624427, 0.026360...  0.411859  \n",
       "2      [0.10445247, -0.012432211, 1.0132878, 0.022501...  0.376291  \n",
       "3      [0.097607486, -0.04671682, 0.89369416, 0.02104...  0.354988  \n",
       "4      [-0.070028596, 0.03196111, 1.491543, 4.3436885...  0.341996  \n",
       "...                                                  ...       ...  \n",
       "11818  [0.15363283, -0.32605585, 0.69876784, 0.109140...  0.261393  \n",
       "11819  [0.15363283, -0.32605585, 0.69876784, 0.109140...  0.261393  \n",
       "11820  [-0.036085162, -0.0052649253, 0.89135385, -0.0...  0.326252  \n",
       "11821  [-0.0846866, -0.14302923, 0.115261175, 0.38679...  0.011894  \n",
       "11822  [0.108208016, -0.08951269, 0.80524796, 0.04636...  0.337048  \n",
       "\n",
       "[11823 rows x 5 columns]"
      ]
     },
     "execution_count": 43,
     "metadata": {},
     "output_type": "execute_result"
    }
   ],
   "source": [
    "train_data"
   ]
  },
  {
   "cell_type": "code",
   "execution_count": 47,
   "id": "e6c477bf",
   "metadata": {},
   "outputs": [
    {
     "name": "stdout",
     "output_type": "stream",
     "text": [
      "embedding: [ 6.25381842e-02  1.45815313e-01  2.00939679e+00  1.97732938e-03\n",
      "  5.23202360e-01  2.84501821e-01 -6.57820627e-02  7.42757797e-01\n",
      " -4.22180504e-01 -6.88965395e-02 -2.18217298e-01  1.35006830e-01\n",
      " -3.10450315e-01  4.40111637e-01  8.60329628e-01 -1.64083317e-01\n",
      " -5.45378268e-01 -5.03069572e-02  1.00265741e-01 -3.32614094e-01\n",
      " -2.39902854e-01  2.76625216e-01 -1.54234366e-02 -3.72298688e-01\n",
      " -7.10857928e-01 -6.35761797e-01  6.35140002e-01 -1.32759583e+00\n",
      " -3.86134051e-02 -8.36952850e-02  3.07800502e-01 -2.63488859e-01\n",
      "  6.03403568e-01  2.02420667e-01 -2.38816557e-03 -2.53503531e-01\n",
      " -5.99410594e-01  2.06789970e-01 -1.33487508e-01 -4.22500730e-01\n",
      "  1.26603138e+00  1.59797207e-01  6.45398855e-01  2.68610060e-01\n",
      " -8.29365626e-02 -1.92112729e-01 -8.92560650e-03  1.94227755e-01\n",
      " -4.65688944e-01 -8.77881765e-01 -1.07849967e+00 -6.56730652e-01\n",
      "  7.64873549e-02  4.27125841e-01 -1.85397670e-01 -1.38895199e-01\n",
      "  8.59271884e-02 -2.23393962e-01  6.74224198e-02  8.78608406e-01\n",
      "  7.51899719e-01 -6.99535370e-01  3.81525904e-01  7.18146503e-01\n",
      " -2.54640013e-01  3.42816681e-01  3.06474328e-01 -1.26125529e-01\n",
      " -3.24868619e-01  6.10948861e-01  9.28960800e-01  3.82436842e-01\n",
      "  2.79665470e-01  7.20717907e-01 -5.81335545e-01  2.42421478e-02\n",
      "  3.72882962e-01  3.99643034e-01  5.86556979e-02  4.41891283e-01\n",
      "  2.47007117e-01 -9.31525230e-03  9.83993530e-01  3.38891983e-01\n",
      " -2.02561274e-01  2.17917323e-01  1.24812126e-01  6.34113729e-01\n",
      " -1.41425705e+00 -6.70363456e-02 -3.51615667e-01 -3.41525644e-01\n",
      "  8.10029432e-02  7.34582171e-02  5.76668501e-01 -3.98203760e-01\n",
      "  1.66476011e-01 -5.28994739e-01 -4.23806719e-02 -6.55484140e-01\n",
      "  1.11163817e-01 -6.15700126e-01  1.91408619e-01 -1.81177378e-01\n",
      "  2.80442953e-01  2.12839231e-01 -1.60729587e-01 -4.11004305e-01\n",
      "  3.79968971e-01 -2.04927608e-01 -2.28223041e-01  2.71568984e-01\n",
      "  6.01152599e-01 -2.32904196e-01 -7.78783634e-02 -5.05838454e-01\n",
      " -1.19821298e+00 -1.86837241e-02 -2.74018198e-01  4.32685465e-01\n",
      " -2.19065830e-01  5.94842017e-01 -2.49914322e-02 -2.66219050e-01\n",
      "  4.08083528e-01  2.27794540e-03  1.95938632e-01 -7.51067638e-01\n",
      " -7.04057693e-01  1.73349515e-01  1.00125052e-01  1.11094035e-01\n",
      "  3.34476948e-01  3.88165832e-01 -1.37205079e-01 -3.61591011e-01\n",
      "  5.35644703e-02 -4.10197407e-01 -3.05188030e-01 -1.41139627e-01\n",
      " -9.60715473e-01 -9.03240815e-02 -8.95179451e-01  7.20944405e-01\n",
      "  6.34773552e-01 -1.61701933e-01  9.72429216e-02  7.78141022e-01\n",
      "  1.34299621e-02  2.36955643e-01 -6.24064684e-01  4.48232025e-01\n",
      " -2.25035354e-01 -7.15813696e-01 -6.30395889e-01  8.18307996e-02\n",
      " -4.42711264e-01  6.52532876e-01  8.30808431e-02 -1.72083691e-01\n",
      "  7.55899167e-03  4.54873770e-01  2.39133045e-01 -3.88125330e-01\n",
      "  2.41019532e-01  1.96911931e-01  1.93240419e-01  7.87839234e-01\n",
      "  3.78453523e-01  4.24663991e-01  5.79082727e-01 -1.14986563e+00\n",
      " -5.01363754e-01  3.39460164e-01 -6.99008644e-01  3.74588877e-01\n",
      "  5.28745055e-01  5.53836107e-01  1.14256394e+00 -1.86645519e-02\n",
      "  4.58262675e-02  8.63581374e-02  1.05718625e+00 -9.47590530e-01\n",
      " -1.38553903e-01 -2.17952237e-01 -3.60562429e-02  1.47262067e-01\n",
      "  4.45784062e-01  4.67910022e-01  5.95756233e-01 -5.66919386e-01\n",
      " -2.92489111e-01 -9.76143777e-01  1.78620622e-01  4.55300599e-01\n",
      "  1.71057448e-01 -7.37732649e-02  1.17987126e-01 -2.41467789e-01\n",
      "  1.19147456e+00 -1.69350132e-01  4.15923446e-01 -3.80783707e-01\n",
      "  4.89853770e-01  9.51595962e-01 -7.18856156e-01  4.23803717e-01\n",
      "  5.71299613e-01 -2.49719620e-01 -4.00340647e-01  6.33646771e-02\n",
      "  2.96244055e-01  1.08726740e-01 -1.31370768e-01 -2.06986502e-01\n",
      "  5.34785330e-01  2.13849798e-01 -9.45170581e-01 -8.82147476e-02\n",
      " -6.32591778e-03 -1.58156812e-01  8.52425471e-02  6.48674881e-03\n",
      " -3.98461968e-01  4.06048775e-01  8.57368290e-01 -4.92440432e-01\n",
      " -5.87522566e-01 -7.49747038e-01  1.63408723e-02 -6.02859735e-01\n",
      "  5.07940590e-01  7.00860560e-01  2.26810455e-01  4.76472378e-01\n",
      "  4.38883930e-01 -6.34437799e-01 -4.72714901e-01  6.45580590e-01\n",
      "  3.72580200e-01  3.10730904e-01  1.43960834e-01  2.52538055e-01\n",
      " -1.06550598e+00 -4.68784362e-01  3.88331622e-01 -1.14985891e-01\n",
      " -2.44889259e-01  8.27751338e-01  1.38570532e-01 -8.31730366e-01\n",
      " -2.23266538e-02 -7.17376411e-01 -3.32616508e-01 -2.17974842e-01\n",
      " -1.67836025e-01 -1.87313601e-01 -5.28996885e-02 -5.71101904e-01\n",
      " -3.24401647e-01 -3.76551956e-01  1.95764422e-01 -4.32629108e-01\n",
      "  2.62040664e-02 -8.70676115e-02 -1.19131453e-01  8.22627917e-02\n",
      "  3.09616357e-01  2.78948098e-02 -7.33242705e-02 -1.24740340e-01\n",
      " -1.44960865e-01 -1.24309266e+00  3.89896125e-01 -3.69907230e-01\n",
      "  6.42875314e-01  1.74946785e-01 -6.47822559e-01 -6.61223710e-01\n",
      " -4.10203077e-02  4.79770219e-03 -1.62058556e+00  1.64220463e-02\n",
      "  1.75199389e-01 -3.65903139e-01  5.58237374e-01 -5.28625429e-01\n",
      " -4.47807282e-01  1.45257905e-01 -9.81640756e-01 -1.29717663e-01\n",
      "  2.00090453e-01 -1.00101483e+00  4.11665767e-01 -9.25646201e-02\n",
      "  3.53117734e-01  6.02451801e-01 -1.16955233e+00  7.07649887e-01\n",
      " -3.27174515e-01 -4.55337882e-01 -2.91456550e-01 -1.85379889e-02\n",
      "  3.46695215e-01 -1.58229604e-01 -2.50705034e-01 -4.52169746e-01\n",
      " -1.25915065e-01 -1.79758951e-01 -9.35770512e-01 -2.78233916e-01\n",
      "  3.43930423e-02 -2.00565577e-01 -7.27818534e-02 -3.09380833e-02\n",
      " -7.25076497e-01  6.63349926e-01 -4.81910892e-02 -8.51755917e-01\n",
      "  2.04004928e-01  3.13604385e-01  5.09811938e-02 -2.55686074e-01\n",
      " -1.68652833e-01  1.20586134e-01 -6.39302909e-01  5.71993649e-01\n",
      "  1.09331064e-01 -3.01494479e-01  1.56403497e-01  5.05187750e-01\n",
      "  2.17635348e-01 -1.52017072e-01 -2.17627242e-01  7.49790013e-01\n",
      " -2.67424732e-01 -5.49852192e-01  6.07604384e-01 -1.53627144e-02\n",
      " -3.97651076e-01 -2.66113907e-01 -5.36110640e-01 -3.47365737e-01\n",
      "  1.01615381e+00 -4.09973234e-01 -1.38848007e-01 -1.19823921e+00\n",
      "  9.00708258e-01 -4.27151799e-01 -7.98590556e-02 -1.65533140e-01\n",
      " -1.11975551e+00  2.35748887e-01 -7.95426607e-01 -5.22091473e-03\n",
      "  6.88374281e-01 -4.33027118e-01  6.30112648e-01  2.18371764e-01\n",
      " -1.27830103e-01 -2.62046963e-01 -4.52158451e-01  3.12900156e-01\n",
      " -7.44690821e-02  1.94732562e-01  3.64850998e-01 -2.17368841e-01\n",
      "  1.17314112e+00  4.40192789e-01  5.25260270e-01 -2.59901643e-01\n",
      "  1.70981780e-01 -4.16991413e-02 -4.39083904e-01  2.04222873e-01\n",
      "  3.48672032e-01 -7.13647366e-01  3.59264702e-01  7.29667991e-02\n",
      " -1.11753821e-01 -2.46647552e-01 -2.94129640e-01 -1.66789636e-01\n",
      "  4.52086568e-01  3.28816682e-01 -3.92279983e-01 -8.02258909e-01\n",
      "  1.67693019e-01 -2.12310240e-01  3.00006628e-01  2.04947829e-01\n",
      "  1.14844419e-01  2.01784655e-01  1.32186130e-01 -1.18185914e+00\n",
      "  5.37698448e-01  5.13453335e-02 -1.15495294e-01 -1.06599011e-01\n",
      " -1.04801178e-01  1.01939535e+00 -1.00531681e-02 -3.70268255e-01\n",
      " -1.44601360e-01 -1.16058730e-01 -3.98283303e-02 -7.49139190e-02\n",
      " -1.03930771e+00 -1.39047727e-01 -1.56589504e-02  3.55067283e-01\n",
      " -4.30112928e-01  2.49074176e-02 -2.61360168e-01  3.05633783e-01\n",
      " -1.74130604e-01 -7.71458328e-01  6.46217585e-01 -5.80195896e-02\n",
      "  2.90308148e-01 -4.01182055e-01 -5.09021759e-01  1.95383087e-01\n",
      " -6.45650700e-02  5.87571748e-02  1.54300436e-01 -4.72423248e-02\n",
      "  1.09422766e-02  1.33636415e-01 -5.43627329e-02  5.68684757e-01\n",
      " -1.84088480e-02 -5.29848970e-02 -1.95939556e-01 -1.80795547e-02\n",
      " -5.39822578e-01  1.21333264e-01  3.50448579e-01  3.49898964e-01\n",
      "  4.87753153e-01  2.58225858e-01 -6.54031456e-01  3.65742802e-04\n",
      " -2.25646660e-01 -5.07351577e-01 -3.89980413e-02  1.23577407e-02\n",
      " -1.96122244e-01  2.05006436e-01 -2.38491222e-01  7.90908337e-01\n",
      "  1.17768265e-01  1.46480739e-01  2.57279783e-01  7.83355385e-02\n",
      " -1.19987167e-01 -1.15132608e-01  3.93185854e-01 -2.06217006e-01\n",
      " -8.94841775e-02 -6.48640215e-01 -2.17651844e-01 -2.73011979e-02\n",
      " -4.82414812e-01 -1.25949785e-01 -3.59011978e-01  8.00066948e-01\n",
      " -1.30404038e-02  2.29957029e-01  9.74115133e-02  2.32846811e-01\n",
      "  7.95989484e-02 -1.29787788e-01 -9.71745029e-02  1.22668111e+00\n",
      " -1.35939658e+00  1.17784947e-01  6.81544781e-01 -1.10135853e-01\n",
      "  4.80449468e-01  4.38100725e-01 -4.97661829e-01 -9.60717574e-02\n",
      " -3.97960573e-01  3.98533434e-01  4.82673079e-01 -1.91936567e-01\n",
      "  7.10132778e-01  3.24114233e-01 -1.04979372e+00 -9.62102592e-01\n",
      " -7.07730711e-01 -2.14714155e-01 -1.83248118e-01  9.39125538e-01\n",
      " -5.07658541e-01 -5.25323069e-03  1.00872278e-01  3.19573313e-01\n",
      " -7.10129678e-01 -3.87251787e-02 -9.88107026e-01 -7.58559883e-01\n",
      "  1.05130911e-01  2.08632275e-01 -9.22148049e-01  7.63328016e-01\n",
      " -1.71456382e-01  3.44557352e-02 -5.23961186e-01  1.19593549e+00\n",
      " -3.92058611e-01 -4.92289104e-02 -2.95755714e-01 -1.73168734e-01\n",
      "  9.03166607e-02  1.04274489e-01  4.40888494e-01 -1.05027521e+00\n",
      "  3.83185774e-01 -1.77544072e-01 -3.35811615e-01  1.82900831e-01\n",
      "  1.24516748e-01  3.03970665e-01  3.33203524e-01 -4.38322157e-01\n",
      " -2.70697679e-02 -2.19128847e-01  7.78794765e-01  6.93740249e-02\n",
      " -5.16531728e-02 -5.08069694e-01  6.35551393e-01  4.74074751e-01\n",
      " -6.67735577e-01 -2.19225928e-01 -1.38658270e-01  1.79840267e-01\n",
      "  8.95025805e-02  6.97205737e-02  2.07165882e-01 -3.29783529e-01\n",
      " -4.87801462e-01 -1.93129525e-01 -2.73823857e-01 -2.17248037e-01\n",
      "  2.38210961e-01 -7.41471946e-01 -7.19892681e-01  1.65847555e-01\n",
      " -2.27314070e-01 -4.80885029e-01  5.25195897e-03 -6.21920407e-01\n",
      "  6.05302870e-01  6.81210518e-01  1.21543305e-02 -7.08488762e-01\n",
      "  4.43894476e-01 -5.11385918e-01 -4.49124098e-01  1.72323331e-01\n",
      " -6.72409773e-01  1.21498555e-01  2.22482741e-01  5.51789582e-01\n",
      "  3.33888292e-01  3.77420373e-02  2.37417873e-02  3.22495907e-04\n",
      " -2.50895709e-01  4.68040943e-01 -3.15901637e-01  3.08778733e-01\n",
      "  1.04419100e+00  2.13166714e-01 -1.19856870e+00 -4.27835137e-01\n",
      "  8.19743872e-02  7.93281019e-01  4.27865714e-01 -6.00631297e-01\n",
      " -3.67111593e-01 -2.93210953e-01  3.05086583e-01 -9.81890500e-01\n",
      "  9.56410944e-01  8.44029129e-01  5.09506643e-01 -3.54322553e-01\n",
      " -1.07122503e-01 -7.49730170e-01  3.47469091e-01 -1.80182174e-01\n",
      " -2.15555668e-01  7.06878185e-01 -2.06985846e-01  9.28131580e-01\n",
      " -4.89067763e-01  8.23630169e-02 -4.74511623e-01  7.54598916e-01\n",
      "  6.17245324e-02  7.38795921e-02 -2.71127075e-01  1.86834827e-01\n",
      "  2.39954725e-01  6.29098296e-01  2.14867890e-02 -2.61919349e-01\n",
      " -6.04245186e-01 -6.57417849e-02 -3.83545794e-02  8.12643170e-02\n",
      " -3.78652185e-01  5.40783703e-01  1.02942514e+00  2.26587132e-02\n",
      " -7.17111751e-02  5.15360594e-01 -3.93676430e-01  1.82854403e-02\n",
      " -6.78454876e-01  1.77960098e-03 -3.17008048e-01  6.32430986e-02\n",
      "  3.00739318e-01 -2.58921146e-01  2.68952876e-01  4.72547203e-01\n",
      "  5.47966421e-01 -3.39558534e-02 -1.39902443e-01  3.46047431e-02\n",
      "  3.37006569e-01  5.24725735e-01  4.13892835e-01 -1.70980692e-01\n",
      "  1.37676358e-01 -6.71327889e-01  7.41108716e-01 -9.53299701e-01\n",
      " -2.62246668e-01 -2.29065463e-01  3.13647315e-02  6.09076440e-01\n",
      "  5.53405702e-01  2.66363174e-02  3.12529087e-01 -1.04087484e+00\n",
      " -6.59420252e-01  9.47919711e-02  1.32567599e-01 -7.51346573e-02\n",
      "  2.40403906e-01 -1.30731642e-01 -6.23609535e-02 -9.94785488e-01\n",
      "  2.41213545e-01 -5.51824808e-01 -2.41091132e-01 -2.38837317e-01\n",
      "  2.48556003e-01  1.47785768e-01 -2.18419075e-01 -5.13395846e-01\n",
      " -9.13470447e-01 -3.26395661e-01  7.35556185e-01  8.23209584e-02\n",
      "  1.93085387e-01 -7.39711106e-01 -3.69822890e-01 -2.49820396e-01\n",
      "  4.64346737e-01  9.64275971e-02  3.99307162e-01 -1.13911055e-01\n",
      "  1.02706289e+00  8.37679863e-01 -1.02358572e-02  2.88808197e-01\n",
      " -3.06814581e-01 -1.74269244e-01  2.16656461e-01 -2.57955700e-01\n",
      " -3.05364430e-02 -1.77778900e-01  4.14206982e-01  5.25779545e-01\n",
      "  2.75680512e-01 -9.57849681e-01  2.08604574e-01  5.06284535e-01\n",
      "  5.62036455e-01 -5.40123880e-01 -3.11679561e-02 -4.40461785e-01\n",
      " -3.25753927e-01 -4.90981340e-01 -6.51333511e-01  1.59666553e-01\n",
      " -3.69071722e-01 -8.29123497e-01 -6.44665897e-01  3.89533979e-03\n",
      " -1.79046571e-01  3.32799077e-01  9.34571028e-02 -8.89114439e-02\n",
      " -1.45185709e-01  9.73902285e-01  1.83561862e-01  1.75452888e+00\n",
      "  4.62823994e-02 -5.11356555e-02  3.36632997e-01 -3.23681623e-01\n",
      " -1.96589753e-01  1.65673062e-01 -5.08745253e-01  1.69038460e-01\n",
      " -6.64273441e-01  1.67946622e-01  1.77358627e-01 -4.56418246e-01\n",
      " -1.02928615e+00 -4.02330399e-01 -4.31000799e-01  4.70876604e-01\n",
      " -1.74466491e-01  6.98073328e-01  2.10350767e-01 -4.43128832e-02\n",
      "  2.84780532e-01  4.09574360e-02  3.04865748e-01  6.61241233e-01\n",
      " -3.02079737e-01 -6.27115905e-01  6.79719985e-01 -1.03604741e-01\n",
      " -6.06308281e-01 -3.30532372e-01 -1.92334756e-01  1.84649035e-01\n",
      " -6.02923453e-01  5.48547208e-02 -2.75038183e-01 -1.04437821e-01\n",
      " -1.27557707e+00 -1.06918430e+00 -2.54983306e-01  6.95851073e-02\n",
      "  6.52329847e-02 -1.02174589e-02  3.07975560e-01 -1.60312846e-01\n",
      "  4.20449257e-01 -6.54114783e-02 -8.83103609e-02 -5.03329813e-01\n",
      " -2.23814175e-02  3.67315918e-01  5.13790585e-02  1.86833858e-01]\n"
     ]
    },
    {
     "data": {
      "text/plain": [
       "'힘든 일이 있었나봐요.'"
      ]
     },
     "execution_count": 47,
     "metadata": {},
     "output_type": "execute_result"
    }
   ],
   "source": [
    "return_answer(\"아\")"
   ]
  },
  {
   "cell_type": "code",
   "execution_count": 42,
   "id": "3a9650f1",
   "metadata": {},
   "outputs": [
    {
     "data": {
      "text/plain": [
       "'내 집 마련의 한 걸음을 내딛으셨네요.'"
      ]
     },
     "execution_count": 42,
     "metadata": {},
     "output_type": "execute_result"
    }
   ],
   "source": [
    "return_answer(\"선민 하트 봉기\")"
   ]
  },
  {
   "cell_type": "code",
   "execution_count": 35,
   "id": "9a82e816",
   "metadata": {},
   "outputs": [],
   "source": [
    "save_path = \"./nlp/pretrained/ood_answer_pretrained_model\"\n",
    "model.save(save_path)"
   ]
  },
  {
   "cell_type": "code",
   "execution_count": 37,
   "id": "b88f6b62",
   "metadata": {},
   "outputs": [],
   "source": [
    "train_data.to_csv(\"cafe_ood_answer_data.csv\", index=False)"
   ]
  },
  {
   "cell_type": "code",
   "execution_count": 44,
   "id": "b2f3b9cf",
   "metadata": {},
   "outputs": [
    {
     "data": {
      "text/html": [
       "<div>\n",
       "<style scoped>\n",
       "    .dataframe tbody tr th:only-of-type {\n",
       "        vertical-align: middle;\n",
       "    }\n",
       "\n",
       "    .dataframe tbody tr th {\n",
       "        vertical-align: top;\n",
       "    }\n",
       "\n",
       "    .dataframe thead th {\n",
       "        text-align: right;\n",
       "    }\n",
       "</style>\n",
       "<table border=\"1\" class=\"dataframe\">\n",
       "  <thead>\n",
       "    <tr style=\"text-align: right;\">\n",
       "      <th></th>\n",
       "      <th>Q</th>\n",
       "      <th>A</th>\n",
       "      <th>label</th>\n",
       "      <th>embedding</th>\n",
       "      <th>score</th>\n",
       "    </tr>\n",
       "  </thead>\n",
       "  <tbody>\n",
       "    <tr>\n",
       "      <th>0</th>\n",
       "      <td>12시 땡!</td>\n",
       "      <td>하루가 또 가네요.</td>\n",
       "      <td>0</td>\n",
       "      <td>[ 2.01795861e-01 -3.44380587e-02  1.53957236e+...</td>\n",
       "      <td>0.446384</td>\n",
       "    </tr>\n",
       "    <tr>\n",
       "      <th>1</th>\n",
       "      <td>1지망 학교 떨어졌어</td>\n",
       "      <td>위로해 드립니다.</td>\n",
       "      <td>0</td>\n",
       "      <td>[ 7.71659464e-02 -3.42781581e-02  8.62442672e-...</td>\n",
       "      <td>0.501214</td>\n",
       "    </tr>\n",
       "    <tr>\n",
       "      <th>2</th>\n",
       "      <td>3박4일 놀러가고 싶다</td>\n",
       "      <td>여행은 언제나 좋죠.</td>\n",
       "      <td>0</td>\n",
       "      <td>[ 1.04452468e-01 -1.24322111e-02  1.01328778e+...</td>\n",
       "      <td>0.507092</td>\n",
       "    </tr>\n",
       "    <tr>\n",
       "      <th>3</th>\n",
       "      <td>3박4일 정도 놀러가고 싶다</td>\n",
       "      <td>여행은 언제나 좋죠.</td>\n",
       "      <td>0</td>\n",
       "      <td>[ 9.76074859e-02 -4.67168204e-02  8.93694162e-...</td>\n",
       "      <td>0.507658</td>\n",
       "    </tr>\n",
       "    <tr>\n",
       "      <th>4</th>\n",
       "      <td>PPL 심하네</td>\n",
       "      <td>눈살이 찌푸려지죠.</td>\n",
       "      <td>0</td>\n",
       "      <td>[-7.00285956e-02  3.19611095e-02  1.49154305e+...</td>\n",
       "      <td>0.683129</td>\n",
       "    </tr>\n",
       "    <tr>\n",
       "      <th>...</th>\n",
       "      <td>...</td>\n",
       "      <td>...</td>\n",
       "      <td>...</td>\n",
       "      <td>...</td>\n",
       "      <td>...</td>\n",
       "    </tr>\n",
       "    <tr>\n",
       "      <th>11818</th>\n",
       "      <td>훔쳐보는 것도 눈치 보임.</td>\n",
       "      <td>티가 나니까 눈치가 보이는 거죠!</td>\n",
       "      <td>2</td>\n",
       "      <td>[ 1.53632835e-01 -3.26055855e-01  6.98767841e-...</td>\n",
       "      <td>0.218796</td>\n",
       "    </tr>\n",
       "    <tr>\n",
       "      <th>11819</th>\n",
       "      <td>훔쳐보는 것도 눈치 보임.</td>\n",
       "      <td>훔쳐보는 거 티나나봐요.</td>\n",
       "      <td>2</td>\n",
       "      <td>[ 1.53632835e-01 -3.26055855e-01  6.98767841e-...</td>\n",
       "      <td>0.218796</td>\n",
       "    </tr>\n",
       "    <tr>\n",
       "      <th>11820</th>\n",
       "      <td>흑기사 해주는 짝남.</td>\n",
       "      <td>설렜겠어요.</td>\n",
       "      <td>2</td>\n",
       "      <td>[-3.60851623e-02 -5.26492530e-03  8.91353846e-...</td>\n",
       "      <td>0.511154</td>\n",
       "    </tr>\n",
       "    <tr>\n",
       "      <th>11821</th>\n",
       "      <td>힘든 연애 좋은 연애라는게 무슨 차이일까?</td>\n",
       "      <td>잘 헤어질 수 있는 사이 여부인 거 같아요.</td>\n",
       "      <td>2</td>\n",
       "      <td>[-8.46865997e-02 -1.43029228e-01  1.15261175e-...</td>\n",
       "      <td>0.127112</td>\n",
       "    </tr>\n",
       "    <tr>\n",
       "      <th>11822</th>\n",
       "      <td>힘들어서 결혼할까봐</td>\n",
       "      <td>도피성 결혼은 하지 않길 바라요.</td>\n",
       "      <td>2</td>\n",
       "      <td>[ 1.08208016e-01 -8.95126909e-02  8.05247962e-...</td>\n",
       "      <td>0.536415</td>\n",
       "    </tr>\n",
       "  </tbody>\n",
       "</table>\n",
       "<p>11823 rows × 5 columns</p>\n",
       "</div>"
      ],
      "text/plain": [
       "                             Q                         A  label  \\\n",
       "0                       12시 땡!                하루가 또 가네요.      0   \n",
       "1                  1지망 학교 떨어졌어                 위로해 드립니다.      0   \n",
       "2                 3박4일 놀러가고 싶다               여행은 언제나 좋죠.      0   \n",
       "3              3박4일 정도 놀러가고 싶다               여행은 언제나 좋죠.      0   \n",
       "4                      PPL 심하네                눈살이 찌푸려지죠.      0   \n",
       "...                        ...                       ...    ...   \n",
       "11818           훔쳐보는 것도 눈치 보임.        티가 나니까 눈치가 보이는 거죠!      2   \n",
       "11819           훔쳐보는 것도 눈치 보임.             훔쳐보는 거 티나나봐요.      2   \n",
       "11820              흑기사 해주는 짝남.                    설렜겠어요.      2   \n",
       "11821  힘든 연애 좋은 연애라는게 무슨 차이일까?  잘 헤어질 수 있는 사이 여부인 거 같아요.      2   \n",
       "11822               힘들어서 결혼할까봐        도피성 결혼은 하지 않길 바라요.      2   \n",
       "\n",
       "                                               embedding     score  \n",
       "0      [ 2.01795861e-01 -3.44380587e-02  1.53957236e+...  0.446384  \n",
       "1      [ 7.71659464e-02 -3.42781581e-02  8.62442672e-...  0.501214  \n",
       "2      [ 1.04452468e-01 -1.24322111e-02  1.01328778e+...  0.507092  \n",
       "3      [ 9.76074859e-02 -4.67168204e-02  8.93694162e-...  0.507658  \n",
       "4      [-7.00285956e-02  3.19611095e-02  1.49154305e+...  0.683129  \n",
       "...                                                  ...       ...  \n",
       "11818  [ 1.53632835e-01 -3.26055855e-01  6.98767841e-...  0.218796  \n",
       "11819  [ 1.53632835e-01 -3.26055855e-01  6.98767841e-...  0.218796  \n",
       "11820  [-3.60851623e-02 -5.26492530e-03  8.91353846e-...  0.511154  \n",
       "11821  [-8.46865997e-02 -1.43029228e-01  1.15261175e-...  0.127112  \n",
       "11822  [ 1.08208016e-01 -8.95126909e-02  8.05247962e-...  0.536415  \n",
       "\n",
       "[11823 rows x 5 columns]"
      ]
     },
     "execution_count": 44,
     "metadata": {},
     "output_type": "execute_result"
    }
   ],
   "source": [
    "test_data = pd.read_csv('cafe_ood_answer_data.csv')\n",
    "test_data"
   ]
  },
  {
   "cell_type": "code",
   "execution_count": 45,
   "id": "96582b86",
   "metadata": {},
   "outputs": [
    {
     "data": {
      "text/plain": [
       "SentenceTransformer(\n",
       "  (0): Transformer({'max_seq_length': 128, 'do_lower_case': False}) with Transformer model: XLMRobertaModel \n",
       "  (1): Pooling({'word_embedding_dimension': 768, 'pooling_mode_cls_token': False, 'pooling_mode_mean_tokens': True, 'pooling_mode_max_tokens': False, 'pooling_mode_mean_sqrt_len_tokens': False})\n",
       ")"
      ]
     },
     "execution_count": 45,
     "metadata": {},
     "output_type": "execute_result"
    }
   ],
   "source": []
  },
  {
   "cell_type": "code",
   "execution_count": null,
   "id": "7c9a02ba",
   "metadata": {},
   "outputs": [],
   "source": []
  }
 ],
 "metadata": {
  "kernelspec": {
   "display_name": "Python 3 (ipykernel)",
   "language": "python",
   "name": "python3"
  },
  "language_info": {
   "codemirror_mode": {
    "name": "ipython",
    "version": 3
   },
   "file_extension": ".py",
   "mimetype": "text/x-python",
   "name": "python",
   "nbconvert_exporter": "python",
   "pygments_lexer": "ipython3",
   "version": "3.9.7"
  }
 },
 "nbformat": 4,
 "nbformat_minor": 5
}
