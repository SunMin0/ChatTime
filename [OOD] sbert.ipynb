{
 "cells": [
  {
   "cell_type": "code",
   "execution_count": null,
   "id": "536e6989",
   "metadata": {
    "scrolled": true
   },
   "outputs": [],
   "source": [
    "!pip install sentence_transformers"
   ]
  },
  {
   "cell_type": "code",
   "execution_count": 1,
   "id": "503c72b1",
   "metadata": {
    "scrolled": true
   },
   "outputs": [
    {
     "data": {
      "text/html": [
       "<div>\n",
       "<style scoped>\n",
       "    .dataframe tbody tr th:only-of-type {\n",
       "        vertical-align: middle;\n",
       "    }\n",
       "\n",
       "    .dataframe tbody tr th {\n",
       "        vertical-align: top;\n",
       "    }\n",
       "\n",
       "    .dataframe thead th {\n",
       "        text-align: right;\n",
       "    }\n",
       "</style>\n",
       "<table border=\"1\" class=\"dataframe\">\n",
       "  <thead>\n",
       "    <tr style=\"text-align: right;\">\n",
       "      <th></th>\n",
       "      <th>Q</th>\n",
       "      <th>A</th>\n",
       "      <th>label</th>\n",
       "    </tr>\n",
       "  </thead>\n",
       "  <tbody>\n",
       "    <tr>\n",
       "      <th>0</th>\n",
       "      <td>12시 땡!</td>\n",
       "      <td>하루가 또 가네요.</td>\n",
       "      <td>0</td>\n",
       "    </tr>\n",
       "    <tr>\n",
       "      <th>1</th>\n",
       "      <td>1지망 학교 떨어졌어</td>\n",
       "      <td>위로해 드립니다.</td>\n",
       "      <td>0</td>\n",
       "    </tr>\n",
       "    <tr>\n",
       "      <th>2</th>\n",
       "      <td>3박4일 놀러가고 싶다</td>\n",
       "      <td>여행은 언제나 좋죠.</td>\n",
       "      <td>0</td>\n",
       "    </tr>\n",
       "    <tr>\n",
       "      <th>3</th>\n",
       "      <td>3박4일 정도 놀러가고 싶다</td>\n",
       "      <td>여행은 언제나 좋죠.</td>\n",
       "      <td>0</td>\n",
       "    </tr>\n",
       "    <tr>\n",
       "      <th>4</th>\n",
       "      <td>PPL 심하네</td>\n",
       "      <td>눈살이 찌푸려지죠.</td>\n",
       "      <td>0</td>\n",
       "    </tr>\n",
       "  </tbody>\n",
       "</table>\n",
       "</div>"
      ],
      "text/plain": [
       "                 Q            A  label\n",
       "0           12시 땡!   하루가 또 가네요.      0\n",
       "1      1지망 학교 떨어졌어    위로해 드립니다.      0\n",
       "2     3박4일 놀러가고 싶다  여행은 언제나 좋죠.      0\n",
       "3  3박4일 정도 놀러가고 싶다  여행은 언제나 좋죠.      0\n",
       "4          PPL 심하네   눈살이 찌푸려지죠.      0"
      ]
     },
     "execution_count": 1,
     "metadata": {},
     "output_type": "execute_result"
    }
   ],
   "source": [
    "from sentence_transformers import SentenceTransformer\n",
    "import pandas as pd\n",
    "\n",
    "train_data = pd.read_csv('ChatBotData.csv')\n",
    "train_data.head()"
   ]
  },
  {
   "cell_type": "code",
   "execution_count": 3,
   "id": "6e62d8ab",
   "metadata": {},
   "outputs": [],
   "source": [
    "model = SentenceTransformer('sentence-transformers/xlm-r-100langs-bert-base-nli-stsb-mean-tokens')\n",
    "save_path = \"./nlp/pretrained/ood_answer_pretrained_model\"\n",
    "model.save(save_path)\n"
   ]
  },
  {
   "cell_type": "code",
   "execution_count": 4,
   "id": "d3ab1c53",
   "metadata": {},
   "outputs": [
    {
     "name": "stderr",
     "output_type": "stream",
     "text": [
      "\n",
      "KeyboardInterrupt\n",
      "\n"
     ]
    }
   ],
   "source": [
    "model = SentenceTransformer('./nlp/pretrained/ood_answer_pretrained_model')\n",
    "train_data['embedding'] = train_data.apply(lambda row: model.encode(row.Q), axis = 1)\n",
    "train_data.head()"
   ]
  },
  {
   "cell_type": "code",
   "execution_count": null,
   "id": "84c43e04",
   "metadata": {},
   "outputs": [],
   "source": [
    "type(train_data['embedding'][0])"
   ]
  },
  {
   "cell_type": "code",
   "execution_count": null,
   "id": "63361a91",
   "metadata": {
    "scrolled": true
   },
   "outputs": [],
   "source": [
    "# train_data.to_csv(\"cafe_ood_answer_data.csv\", index=False)|\n",
    "test_data = pd.read_csv('cafe_ood_answer_data.csv')\n",
    "print(type(test_data['embedding'][0]))"
   ]
  },
  {
   "cell_type": "code",
   "execution_count": 176,
   "id": "26161aff",
   "metadata": {},
   "outputs": [
    {
     "name": "stderr",
     "output_type": "stream",
     "text": [
      "C:\\Users\\slinfo\\AppData\\Local\\Temp\\ipykernel_9764\\292936176.py:2: FutureWarning: The default value of regex will change from True to False in a future version.\n",
      "  test_data['embedding'] = test_data['embedding'].str.replace('\\[ ','[')\n",
      "C:\\Users\\slinfo\\AppData\\Local\\Temp\\ipykernel_9764\\292936176.py:3: FutureWarning: The default value of regex will change from True to False in a future version.\n",
      "  test_data['embedding'] = test_data['embedding'].str.replace(' \\]',']')\n"
     ]
    }
   ],
   "source": [
    "import numpy as np\n",
    "test_data['embedding'] = test_data['embedding'].str.replace('\\[ ','[')\n",
    "test_data['embedding'] = test_data['embedding'].str.replace(' \\]',']')\n",
    "test_data['embedding'] = test_data['embedding'].str.replace('    ',' ')\n",
    "test_data['embedding'] = test_data['embedding'].str.replace('   ',' ')\n",
    "test_data['embedding'] = test_data['embedding'].str.replace('  ',' ')\n",
    "test_data['embedding'] = test_data['embedding'].str.replace(' ',',')\n",
    "\n",
    "test_data['embedding'] = test_data['embedding'].apply(eval).apply(np.array)"
   ]
  },
  {
   "cell_type": "code",
   "execution_count": 178,
   "id": "520b7bdf",
   "metadata": {},
   "outputs": [
    {
     "name": "stdout",
     "output_type": "stream",
     "text": [
      "<class 'numpy.ndarray'>\n"
     ]
    }
   ],
   "source": [
    "print(type(test_data['embedding'][0]))"
   ]
  },
  {
   "cell_type": "code",
   "execution_count": 189,
   "id": "ec8b91b7",
   "metadata": {},
   "outputs": [
    {
     "data": {
      "text/html": [
       "<div>\n",
       "<style scoped>\n",
       "    .dataframe tbody tr th:only-of-type {\n",
       "        vertical-align: middle;\n",
       "    }\n",
       "\n",
       "    .dataframe tbody tr th {\n",
       "        vertical-align: top;\n",
       "    }\n",
       "\n",
       "    .dataframe thead th {\n",
       "        text-align: right;\n",
       "    }\n",
       "</style>\n",
       "<table border=\"1\" class=\"dataframe\">\n",
       "  <thead>\n",
       "    <tr style=\"text-align: right;\">\n",
       "      <th></th>\n",
       "      <th>Q</th>\n",
       "      <th>A</th>\n",
       "      <th>label</th>\n",
       "      <th>embedding</th>\n",
       "    </tr>\n",
       "  </thead>\n",
       "  <tbody>\n",
       "    <tr>\n",
       "      <th>0</th>\n",
       "      <td>12시 땡!</td>\n",
       "      <td>하루가 또 가네요.</td>\n",
       "      <td>0</td>\n",
       "      <td>[ 2.01795861e-01 -3.44380587e-02  1.53957236e+...</td>\n",
       "    </tr>\n",
       "    <tr>\n",
       "      <th>1</th>\n",
       "      <td>1지망 학교 떨어졌어</td>\n",
       "      <td>위로해 드립니다.</td>\n",
       "      <td>0</td>\n",
       "      <td>[ 7.71659464e-02 -3.42781581e-02  8.62442672e-...</td>\n",
       "    </tr>\n",
       "    <tr>\n",
       "      <th>2</th>\n",
       "      <td>3박4일 놀러가고 싶다</td>\n",
       "      <td>여행은 언제나 좋죠.</td>\n",
       "      <td>0</td>\n",
       "      <td>[ 1.04452468e-01 -1.24322111e-02  1.01328778e+...</td>\n",
       "    </tr>\n",
       "    <tr>\n",
       "      <th>3</th>\n",
       "      <td>3박4일 정도 놀러가고 싶다</td>\n",
       "      <td>여행은 언제나 좋죠.</td>\n",
       "      <td>0</td>\n",
       "      <td>[ 9.76074859e-02 -4.67168204e-02  8.93694162e-...</td>\n",
       "    </tr>\n",
       "    <tr>\n",
       "      <th>4</th>\n",
       "      <td>PPL 심하네</td>\n",
       "      <td>눈살이 찌푸려지죠.</td>\n",
       "      <td>0</td>\n",
       "      <td>[-7.00285956e-02  3.19611095e-02  1.49154305e+...</td>\n",
       "    </tr>\n",
       "  </tbody>\n",
       "</table>\n",
       "</div>"
      ],
      "text/plain": [
       "                 Q            A  label  \\\n",
       "0           12시 땡!   하루가 또 가네요.      0   \n",
       "1      1지망 학교 떨어졌어    위로해 드립니다.      0   \n",
       "2     3박4일 놀러가고 싶다  여행은 언제나 좋죠.      0   \n",
       "3  3박4일 정도 놀러가고 싶다  여행은 언제나 좋죠.      0   \n",
       "4          PPL 심하네   눈살이 찌푸려지죠.      0   \n",
       "\n",
       "                                           embedding  \n",
       "0  [ 2.01795861e-01 -3.44380587e-02  1.53957236e+...  \n",
       "1  [ 7.71659464e-02 -3.42781581e-02  8.62442672e-...  \n",
       "2  [ 1.04452468e-01 -1.24322111e-02  1.01328778e+...  \n",
       "3  [ 9.76074859e-02 -4.67168204e-02  8.93694162e-...  \n",
       "4  [-7.00285956e-02  3.19611095e-02  1.49154305e+...  "
      ]
     },
     "execution_count": 189,
     "metadata": {},
     "output_type": "execute_result"
    }
   ],
   "source": [
    "import pandas as pd\n",
    "test_data = pd.read_csv('cafe_ood_answer_data.csv')\n",
    "test_data.head()"
   ]
  },
  {
   "cell_type": "code",
   "execution_count": 190,
   "id": "48a25ef2",
   "metadata": {},
   "outputs": [
    {
     "name": "stderr",
     "output_type": "stream",
     "text": [
      "C:\\Users\\slinfo\\AppData\\Local\\Temp\\ipykernel_9764\\292936176.py:2: FutureWarning: The default value of regex will change from True to False in a future version.\n",
      "  test_data['embedding'] = test_data['embedding'].str.replace('\\[ ','[')\n",
      "C:\\Users\\slinfo\\AppData\\Local\\Temp\\ipykernel_9764\\292936176.py:3: FutureWarning: The default value of regex will change from True to False in a future version.\n",
      "  test_data['embedding'] = test_data['embedding'].str.replace(' \\]',']')\n"
     ]
    }
   ],
   "source": [
    "import numpy as np\n",
    "test_data['embedding'] = test_data['embedding'].str.replace('\\[ ','[')\n",
    "test_data['embedding'] = test_data['embedding'].str.replace(' \\]',']')\n",
    "test_data['embedding'] = test_data['embedding'].str.replace('    ',' ')\n",
    "test_data['embedding'] = test_data['embedding'].str.replace('   ',' ')\n",
    "test_data['embedding'] = test_data['embedding'].str.replace('  ',' ')\n",
    "test_data['embedding'] = test_data['embedding'].str.replace(' ',',')\n",
    "\n",
    "test_data['embedding'] = test_data['embedding'].apply(eval).apply(np.array)"
   ]
  },
  {
   "cell_type": "code",
   "execution_count": 191,
   "id": "7dd24e9e",
   "metadata": {},
   "outputs": [],
   "source": [
    "from numpy import dot\n",
    "from numpy.linalg import norm\n",
    "from sentence_transformers import SentenceTransformer\n",
    "\n",
    "model = SentenceTransformer('./nlp/pretrained/ood_answer_pretrained_model')\n",
    "\n",
    "def cos_sim(A, B):\n",
    "    return dot(A, B)/(norm(A)*norm(B))"
   ]
  },
  {
   "cell_type": "code",
   "execution_count": 192,
   "id": "e344e729",
   "metadata": {},
   "outputs": [],
   "source": [
    "import numpy as np\n",
    "\n",
    "def return_answer(question):\n",
    "    embedding = model.encode(question)\n",
    "    test_data['score'] = test_data.apply(lambda x: cos_sim(x['embedding'], embedding), axis=1)\n",
    "    return test_data.loc[test_data['score'].idxmax()]['A']"
   ]
  },
  {
   "cell_type": "code",
   "execution_count": 197,
   "id": "e5f266d3",
   "metadata": {},
   "outputs": [
    {
     "data": {
      "text/plain": [
       "'위로봇이요.'"
      ]
     },
     "execution_count": 197,
     "metadata": {},
     "output_type": "execute_result"
    }
   ],
   "source": [
    "return_answer(\"what's your name\")"
   ]
  },
  {
   "cell_type": "code",
   "execution_count": 201,
   "id": "9a82e816",
   "metadata": {},
   "outputs": [
    {
     "data": {
      "text/plain": [
       "0.5045658646919345"
      ]
     },
     "execution_count": 201,
     "metadata": {},
     "output_type": "execute_result"
    }
   ],
   "source": [
    "test_data['score'][0]"
   ]
  },
  {
   "cell_type": "code",
   "execution_count": null,
   "id": "16f0d008",
   "metadata": {},
   "outputs": [],
   "source": []
  }
 ],
 "metadata": {
  "kernelspec": {
   "display_name": "Python 3 (ipykernel)",
   "language": "python",
   "name": "python3"
  },
  "language_info": {
   "codemirror_mode": {
    "name": "ipython",
    "version": 3
   },
   "file_extension": ".py",
   "mimetype": "text/x-python",
   "name": "python",
   "nbconvert_exporter": "python",
   "pygments_lexer": "ipython3",
   "version": "3.9.7"
  }
 },
 "nbformat": 4,
 "nbformat_minor": 5
}
