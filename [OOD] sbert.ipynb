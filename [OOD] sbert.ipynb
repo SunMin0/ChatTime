{
 "cells": [
  {
   "cell_type": "code",
   "execution_count": null,
   "id": "536e6989",
   "metadata": {
    "scrolled": true
   },
   "outputs": [],
   "source": [
    "!pip install sentence_transformers"
   ]
  },
  {
   "cell_type": "code",
   "execution_count": 1,
   "id": "503c72b1",
   "metadata": {
    "scrolled": true
   },
   "outputs": [
    {
     "data": {
      "text/html": [
       "<div>\n",
       "<style scoped>\n",
       "    .dataframe tbody tr th:only-of-type {\n",
       "        vertical-align: middle;\n",
       "    }\n",
       "\n",
       "    .dataframe tbody tr th {\n",
       "        vertical-align: top;\n",
       "    }\n",
       "\n",
       "    .dataframe thead th {\n",
       "        text-align: right;\n",
       "    }\n",
       "</style>\n",
       "<table border=\"1\" class=\"dataframe\">\n",
       "  <thead>\n",
       "    <tr style=\"text-align: right;\">\n",
       "      <th></th>\n",
       "      <th>Q</th>\n",
       "      <th>A</th>\n",
       "      <th>label</th>\n",
       "    </tr>\n",
       "  </thead>\n",
       "  <tbody>\n",
       "    <tr>\n",
       "      <th>0</th>\n",
       "      <td>12시 땡!</td>\n",
       "      <td>하루가 또 가네요.</td>\n",
       "      <td>0</td>\n",
       "    </tr>\n",
       "    <tr>\n",
       "      <th>1</th>\n",
       "      <td>1지망 학교 떨어졌어</td>\n",
       "      <td>위로해 드립니다.</td>\n",
       "      <td>0</td>\n",
       "    </tr>\n",
       "    <tr>\n",
       "      <th>2</th>\n",
       "      <td>3박4일 놀러가고 싶다</td>\n",
       "      <td>여행은 언제나 좋죠.</td>\n",
       "      <td>0</td>\n",
       "    </tr>\n",
       "    <tr>\n",
       "      <th>3</th>\n",
       "      <td>3박4일 정도 놀러가고 싶다</td>\n",
       "      <td>여행은 언제나 좋죠.</td>\n",
       "      <td>0</td>\n",
       "    </tr>\n",
       "    <tr>\n",
       "      <th>4</th>\n",
       "      <td>PPL 심하네</td>\n",
       "      <td>눈살이 찌푸려지죠.</td>\n",
       "      <td>0</td>\n",
       "    </tr>\n",
       "  </tbody>\n",
       "</table>\n",
       "</div>"
      ],
      "text/plain": [
       "                 Q            A  label\n",
       "0           12시 땡!   하루가 또 가네요.      0\n",
       "1      1지망 학교 떨어졌어    위로해 드립니다.      0\n",
       "2     3박4일 놀러가고 싶다  여행은 언제나 좋죠.      0\n",
       "3  3박4일 정도 놀러가고 싶다  여행은 언제나 좋죠.      0\n",
       "4          PPL 심하네   눈살이 찌푸려지죠.      0"
      ]
     },
     "execution_count": 1,
     "metadata": {},
     "output_type": "execute_result"
    }
   ],
   "source": [
    "from sentence_transformers import SentenceTransformer\n",
    "import pandas as pd\n",
    "\n",
    "train_data = pd.read_csv('ChatBotData.csv')\n",
    "train_data.head()"
   ]
  },
  {
   "cell_type": "code",
   "execution_count": 2,
   "id": "6e62d8ab",
   "metadata": {},
   "outputs": [
    {
     "data": {
      "text/html": [
       "<div>\n",
       "<style scoped>\n",
       "    .dataframe tbody tr th:only-of-type {\n",
       "        vertical-align: middle;\n",
       "    }\n",
       "\n",
       "    .dataframe tbody tr th {\n",
       "        vertical-align: top;\n",
       "    }\n",
       "\n",
       "    .dataframe thead th {\n",
       "        text-align: right;\n",
       "    }\n",
       "</style>\n",
       "<table border=\"1\" class=\"dataframe\">\n",
       "  <thead>\n",
       "    <tr style=\"text-align: right;\">\n",
       "      <th></th>\n",
       "      <th>Q</th>\n",
       "      <th>A</th>\n",
       "      <th>label</th>\n",
       "      <th>embedding</th>\n",
       "    </tr>\n",
       "  </thead>\n",
       "  <tbody>\n",
       "    <tr>\n",
       "      <th>0</th>\n",
       "      <td>12시 땡!</td>\n",
       "      <td>하루가 또 가네요.</td>\n",
       "      <td>0</td>\n",
       "      <td>[0.20179586, -0.03443806, 1.5395724, 0.0106974...</td>\n",
       "    </tr>\n",
       "    <tr>\n",
       "      <th>1</th>\n",
       "      <td>1지망 학교 떨어졌어</td>\n",
       "      <td>위로해 드립니다.</td>\n",
       "      <td>0</td>\n",
       "      <td>[0.07716595, -0.034278158, 0.8624427, 0.026360...</td>\n",
       "    </tr>\n",
       "    <tr>\n",
       "      <th>2</th>\n",
       "      <td>3박4일 놀러가고 싶다</td>\n",
       "      <td>여행은 언제나 좋죠.</td>\n",
       "      <td>0</td>\n",
       "      <td>[0.10445247, -0.012432211, 1.0132878, 0.022501...</td>\n",
       "    </tr>\n",
       "    <tr>\n",
       "      <th>3</th>\n",
       "      <td>3박4일 정도 놀러가고 싶다</td>\n",
       "      <td>여행은 언제나 좋죠.</td>\n",
       "      <td>0</td>\n",
       "      <td>[0.097607486, -0.04671682, 0.89369416, 0.02104...</td>\n",
       "    </tr>\n",
       "    <tr>\n",
       "      <th>4</th>\n",
       "      <td>PPL 심하네</td>\n",
       "      <td>눈살이 찌푸려지죠.</td>\n",
       "      <td>0</td>\n",
       "      <td>[-0.070028596, 0.03196111, 1.491543, 4.3436885...</td>\n",
       "    </tr>\n",
       "  </tbody>\n",
       "</table>\n",
       "</div>"
      ],
      "text/plain": [
       "                 Q            A  label  \\\n",
       "0           12시 땡!   하루가 또 가네요.      0   \n",
       "1      1지망 학교 떨어졌어    위로해 드립니다.      0   \n",
       "2     3박4일 놀러가고 싶다  여행은 언제나 좋죠.      0   \n",
       "3  3박4일 정도 놀러가고 싶다  여행은 언제나 좋죠.      0   \n",
       "4          PPL 심하네   눈살이 찌푸려지죠.      0   \n",
       "\n",
       "                                           embedding  \n",
       "0  [0.20179586, -0.03443806, 1.5395724, 0.0106974...  \n",
       "1  [0.07716595, -0.034278158, 0.8624427, 0.026360...  \n",
       "2  [0.10445247, -0.012432211, 1.0132878, 0.022501...  \n",
       "3  [0.097607486, -0.04671682, 0.89369416, 0.02104...  \n",
       "4  [-0.070028596, 0.03196111, 1.491543, 4.3436885...  "
      ]
     },
     "execution_count": 2,
     "metadata": {},
     "output_type": "execute_result"
    }
   ],
   "source": [
    "# model = SentenceTransformer('sentence-transformers/xlm-r-100langs-bert-base-nli-stsb-mean-tokens')\n",
    "model = SentenceTransformer('./nlp/pretrained/ood_answer_pretrained_model')\n",
    "train_data['embedding'] = train_data.apply(lambda row: model.encode(row.Q), axis = 1)\n",
    "train_data.head()"
   ]
  },
  {
   "cell_type": "code",
   "execution_count": 179,
   "id": "674bf89b",
   "metadata": {},
   "outputs": [
    {
     "data": {
      "text/plain": [
       "numpy.ndarray"
      ]
     },
     "execution_count": 179,
     "metadata": {},
     "output_type": "execute_result"
    }
   ],
   "source": [
    "type(train_data['embedding'][0])"
   ]
  },
  {
   "cell_type": "code",
   "execution_count": 174,
   "id": "ffa2e8cc",
   "metadata": {
    "scrolled": true
   },
   "outputs": [
    {
     "name": "stdout",
     "output_type": "stream",
     "text": [
      "<class 'str'>\n"
     ]
    }
   ],
   "source": [
    "# save_path = \"./nlp/pretrained/ood_answer_pretrained_model\"\n",
    "# model.save(save_path)\n",
    "\n",
    "# train_data.to_csv(\"cafe_ood_answer_data.csv\", index=False)|\n",
    "test_data = pd.read_csv('cafe_ood_answer_data.csv')\n",
    "print(type(test_data['embedding'][0]))"
   ]
  },
  {
   "cell_type": "code",
   "execution_count": 176,
   "id": "2e2b0ed0",
   "metadata": {},
   "outputs": [
    {
     "name": "stderr",
     "output_type": "stream",
     "text": [
      "C:\\Users\\slinfo\\AppData\\Local\\Temp\\ipykernel_9764\\292936176.py:2: FutureWarning: The default value of regex will change from True to False in a future version.\n",
      "  test_data['embedding'] = test_data['embedding'].str.replace('\\[ ','[')\n",
      "C:\\Users\\slinfo\\AppData\\Local\\Temp\\ipykernel_9764\\292936176.py:3: FutureWarning: The default value of regex will change from True to False in a future version.\n",
      "  test_data['embedding'] = test_data['embedding'].str.replace(' \\]',']')\n"
     ]
    }
   ],
   "source": [
    "import numpy as np\n",
    "test_data['embedding'] = test_data['embedding'].str.replace('\\[ ','[')\n",
    "test_data['embedding'] = test_data['embedding'].str.replace(' \\]',']')\n",
    "test_data['embedding'] = test_data['embedding'].str.replace('    ',' ')\n",
    "test_data['embedding'] = test_data['embedding'].str.replace('   ',' ')\n",
    "test_data['embedding'] = test_data['embedding'].str.replace('  ',' ')\n",
    "test_data['embedding'] = test_data['embedding'].str.replace(' ',',')\n",
    "\n",
    "test_data['embedding'] = test_data['embedding'].apply(eval).apply(np.array)"
   ]
  },
  {
   "cell_type": "code",
   "execution_count": 178,
   "id": "b75bdd16",
   "metadata": {},
   "outputs": [
    {
     "name": "stdout",
     "output_type": "stream",
     "text": [
      "<class 'numpy.ndarray'>\n"
     ]
    }
   ],
   "source": [
    "print(type(test_data['embedding'][0]))"
   ]
  },
  {
   "cell_type": "code",
   "execution_count": 189,
   "id": "a64abee2",
   "metadata": {},
   "outputs": [
    {
     "data": {
      "text/html": [
       "<div>\n",
       "<style scoped>\n",
       "    .dataframe tbody tr th:only-of-type {\n",
       "        vertical-align: middle;\n",
       "    }\n",
       "\n",
       "    .dataframe tbody tr th {\n",
       "        vertical-align: top;\n",
       "    }\n",
       "\n",
       "    .dataframe thead th {\n",
       "        text-align: right;\n",
       "    }\n",
       "</style>\n",
       "<table border=\"1\" class=\"dataframe\">\n",
       "  <thead>\n",
       "    <tr style=\"text-align: right;\">\n",
       "      <th></th>\n",
       "      <th>Q</th>\n",
       "      <th>A</th>\n",
       "      <th>label</th>\n",
       "      <th>embedding</th>\n",
       "    </tr>\n",
       "  </thead>\n",
       "  <tbody>\n",
       "    <tr>\n",
       "      <th>0</th>\n",
       "      <td>12시 땡!</td>\n",
       "      <td>하루가 또 가네요.</td>\n",
       "      <td>0</td>\n",
       "      <td>[ 2.01795861e-01 -3.44380587e-02  1.53957236e+...</td>\n",
       "    </tr>\n",
       "    <tr>\n",
       "      <th>1</th>\n",
       "      <td>1지망 학교 떨어졌어</td>\n",
       "      <td>위로해 드립니다.</td>\n",
       "      <td>0</td>\n",
       "      <td>[ 7.71659464e-02 -3.42781581e-02  8.62442672e-...</td>\n",
       "    </tr>\n",
       "    <tr>\n",
       "      <th>2</th>\n",
       "      <td>3박4일 놀러가고 싶다</td>\n",
       "      <td>여행은 언제나 좋죠.</td>\n",
       "      <td>0</td>\n",
       "      <td>[ 1.04452468e-01 -1.24322111e-02  1.01328778e+...</td>\n",
       "    </tr>\n",
       "    <tr>\n",
       "      <th>3</th>\n",
       "      <td>3박4일 정도 놀러가고 싶다</td>\n",
       "      <td>여행은 언제나 좋죠.</td>\n",
       "      <td>0</td>\n",
       "      <td>[ 9.76074859e-02 -4.67168204e-02  8.93694162e-...</td>\n",
       "    </tr>\n",
       "    <tr>\n",
       "      <th>4</th>\n",
       "      <td>PPL 심하네</td>\n",
       "      <td>눈살이 찌푸려지죠.</td>\n",
       "      <td>0</td>\n",
       "      <td>[-7.00285956e-02  3.19611095e-02  1.49154305e+...</td>\n",
       "    </tr>\n",
       "  </tbody>\n",
       "</table>\n",
       "</div>"
      ],
      "text/plain": [
       "                 Q            A  label  \\\n",
       "0           12시 땡!   하루가 또 가네요.      0   \n",
       "1      1지망 학교 떨어졌어    위로해 드립니다.      0   \n",
       "2     3박4일 놀러가고 싶다  여행은 언제나 좋죠.      0   \n",
       "3  3박4일 정도 놀러가고 싶다  여행은 언제나 좋죠.      0   \n",
       "4          PPL 심하네   눈살이 찌푸려지죠.      0   \n",
       "\n",
       "                                           embedding  \n",
       "0  [ 2.01795861e-01 -3.44380587e-02  1.53957236e+...  \n",
       "1  [ 7.71659464e-02 -3.42781581e-02  8.62442672e-...  \n",
       "2  [ 1.04452468e-01 -1.24322111e-02  1.01328778e+...  \n",
       "3  [ 9.76074859e-02 -4.67168204e-02  8.93694162e-...  \n",
       "4  [-7.00285956e-02  3.19611095e-02  1.49154305e+...  "
      ]
     },
     "execution_count": 189,
     "metadata": {},
     "output_type": "execute_result"
    }
   ],
   "source": [
    "import pandas as pd\n",
    "test_data = pd.read_csv('cafe_ood_answer_data.csv')\n",
    "test_data.head()"
   ]
  },
  {
   "cell_type": "code",
   "execution_count": 190,
   "id": "67dca853",
   "metadata": {},
   "outputs": [
    {
     "name": "stderr",
     "output_type": "stream",
     "text": [
      "C:\\Users\\slinfo\\AppData\\Local\\Temp\\ipykernel_9764\\292936176.py:2: FutureWarning: The default value of regex will change from True to False in a future version.\n",
      "  test_data['embedding'] = test_data['embedding'].str.replace('\\[ ','[')\n",
      "C:\\Users\\slinfo\\AppData\\Local\\Temp\\ipykernel_9764\\292936176.py:3: FutureWarning: The default value of regex will change from True to False in a future version.\n",
      "  test_data['embedding'] = test_data['embedding'].str.replace(' \\]',']')\n"
     ]
    }
   ],
   "source": [
    "import numpy as np\n",
    "test_data['embedding'] = test_data['embedding'].str.replace('\\[ ','[')\n",
    "test_data['embedding'] = test_data['embedding'].str.replace(' \\]',']')\n",
    "test_data['embedding'] = test_data['embedding'].str.replace('    ',' ')\n",
    "test_data['embedding'] = test_data['embedding'].str.replace('   ',' ')\n",
    "test_data['embedding'] = test_data['embedding'].str.replace('  ',' ')\n",
    "test_data['embedding'] = test_data['embedding'].str.replace(' ',',')\n",
    "\n",
    "test_data['embedding'] = test_data['embedding'].apply(eval).apply(np.array)"
   ]
  },
  {
   "cell_type": "code",
   "execution_count": 191,
   "id": "7dd24e9e",
   "metadata": {},
   "outputs": [],
   "source": [
    "from numpy import dot\n",
    "from numpy.linalg import norm\n",
    "from sentence_transformers import SentenceTransformer\n",
    "\n",
    "model = SentenceTransformer('./nlp/pretrained/ood_answer_pretrained_model')\n",
    "\n",
    "def cos_sim(A, B):\n",
    "    return dot(A, B)/(norm(A)*norm(B))"
   ]
  },
  {
   "cell_type": "code",
   "execution_count": 192,
   "id": "e344e729",
   "metadata": {},
   "outputs": [],
   "source": [
    "import numpy as np\n",
    "\n",
    "def return_answer(question):\n",
    "    embedding = model.encode(question)\n",
    "    test_data['score'] = test_data.apply(lambda x: cos_sim(x['embedding'], embedding), axis=1)\n",
    "    return test_data.loc[test_data['score'].idxmax()]['A']"
   ]
  },
  {
   "cell_type": "code",
   "execution_count": 197,
   "id": "ea70b12c",
   "metadata": {},
   "outputs": [
    {
     "data": {
      "text/plain": [
       "'위로봇이요.'"
      ]
     },
     "execution_count": 197,
     "metadata": {},
     "output_type": "execute_result"
    }
   ],
   "source": [
    "return_answer(\"what's your name\")"
   ]
  },
  {
   "cell_type": "code",
   "execution_count": 201,
   "id": "9a82e816",
   "metadata": {},
   "outputs": [
    {
     "data": {
      "text/plain": [
       "0.5045658646919345"
      ]
     },
     "execution_count": 201,
     "metadata": {},
     "output_type": "execute_result"
    }
   ],
   "source": [
    "test_data['score'][0]"
   ]
  },
  {
   "cell_type": "code",
   "execution_count": null,
   "id": "4db70c92",
   "metadata": {},
   "outputs": [],
   "source": []
  }
 ],
 "metadata": {
  "kernelspec": {
   "display_name": "Python 3 (ipykernel)",
   "language": "python",
   "name": "python3"
  },
  "language_info": {
   "codemirror_mode": {
    "name": "ipython",
    "version": 3
   },
   "file_extension": ".py",
   "mimetype": "text/x-python",
   "name": "python",
   "nbconvert_exporter": "python",
   "pygments_lexer": "ipython3",
   "version": "3.9.7"
  }
 },
 "nbformat": 4,
 "nbformat_minor": 5
}
