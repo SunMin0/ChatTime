{
 "cells": [
  {
   "cell_type": "code",
   "execution_count": 1,
   "id": "d885027b",
   "metadata": {},
   "outputs": [
    {
     "name": "stderr",
     "output_type": "stream",
     "text": [
      "C:\\PythonProject\\ChatTime\\src\\model.py:21: FutureWarning: The default value of regex will change from True to False in a future version.\n",
      "  self.train_data['embedding'] = self.train_data['embedding'].str.replace('\\[ ', '[')\n",
      "C:\\PythonProject\\ChatTime\\src\\model.py:22: FutureWarning: The default value of regex will change from True to False in a future version.\n",
      "  self.train_data['embedding'] = self.train_data['embedding'].str.replace(' \\]', ']')\n"
     ]
    }
   ],
   "source": [
    "from src.model import SBERT\n",
    "ood_answer = SBERT()"
   ]
  },
  {
   "cell_type": "code",
   "execution_count": 5,
   "id": "e5e4fa10",
   "metadata": {},
   "outputs": [
    {
     "data": {
      "text/plain": [
       "'위로봇이요.'"
      ]
     },
     "execution_count": 5,
     "metadata": {},
     "output_type": "execute_result"
    }
   ],
   "source": [
    "text = \"what's your name\"\n",
    "ood_answer.return_answer(text)"
   ]
  },
  {
   "cell_type": "code",
   "execution_count": 6,
   "id": "a6178195",
   "metadata": {},
   "outputs": [
    {
     "data": {
      "text/plain": [
       "0.5045658646919345"
      ]
     },
     "execution_count": 6,
     "metadata": {},
     "output_type": "execute_result"
    }
   ],
   "source": [
    "ood_answer.train_data['score'][0]"
   ]
  },
  {
   "cell_type": "code",
   "execution_count": 7,
   "id": "414cfef5",
   "metadata": {},
   "outputs": [
    {
     "name": "stderr",
     "output_type": "stream",
     "text": [
      "C:\\PythonProject\\ChatTime\\src\\model.py:21: FutureWarning: The default value of regex will change from True to False in a future version.\n",
      "  self.train_data['embedding'] = self.train_data['embedding'].str.replace('\\[ ', '[')\n",
      "C:\\PythonProject\\ChatTime\\src\\model.py:22: FutureWarning: The default value of regex will change from True to False in a future version.\n",
      "  self.train_data['embedding'] = self.train_data['embedding'].str.replace(' \\]', ']')\n"
     ]
    }
   ],
   "source": [
    "from src.NLG import NaturalLanguageGenerator\n",
    "nlg = NaturalLanguageGenerator()"
   ]
  },
  {
   "cell_type": "code",
   "execution_count": 9,
   "id": "0091d170",
   "metadata": {},
   "outputs": [
    {
     "name": "stdout",
     "output_type": "stream",
     "text": [
      "intent: ood\n",
      "predict: [[0, 0, 0]]\n"
     ]
    },
    {
     "data": {
      "text/plain": [
       "'위로봇이요.'"
      ]
     },
     "execution_count": 9,
     "metadata": {},
     "output_type": "execute_result"
    }
   ],
   "source": [
    "text = \"넌 이름이 뭐니\"\n",
    "nlg.run_nlg(text)"
   ]
  },
  {
   "cell_type": "code",
   "execution_count": 8,
   "id": "5d97724d",
   "metadata": {},
   "outputs": [
    {
     "name": "stdout",
     "output_type": "stream",
     "text": [
      "31 잔\n"
     ]
    }
   ],
   "source": [
    "import re\n",
    "text = \"서른한잔\"\n",
    "\n",
    "text = re.sub('[-=+,#/\\?:^$.@*\\\"※~&%ㆍ!』\\\\‘|\\(\\)\\[\\]\\<\\>`\\'…》]', '', text)  # 특수문자 제거\n",
    "text = re.sub('만 ', ' ', text)\n",
    "text = re.sub('도 ', ' ', text)\n",
    "text = re.sub('라뗴', '라떼', text)\n",
    "text = re.sub('쥬스', '주스', text)\n",
    "text = re.sub('티라미수', '티라미슈', text)\n",
    "text = re.sub('티라미스', '티라미슈', text)\n",
    "text = re.sub('마키아토', '마끼아또', text)\n",
    "text = re.sub('캐러멜', '카라멜', text)\n",
    "text = re.sub('이요', '', text)\n",
    "text = re.sub('잔요', '잔', text)\n",
    "text = re.sub(' 개', '', text)\n",
    "text = re.sub('개', '', text)\n",
    "text = re.sub('잔', ' 잔', text)\n",
    "text = re.sub(' 조각', '', text)\n",
    "text = re.sub('조각', '', text)\n",
    "text = re.sub(' 봉지', '', text)\n",
    "text = re.sub('봉지', '', text)\n",
    "text = re.sub('하나', '1', text)\n",
    "text = re.sub('한', '1', text)\n",
    "text = re.sub('둘', '2', text)\n",
    "text = re.sub('두', '2', text)\n",
    "text = re.sub('셋', '3', text)\n",
    "text = re.sub('세', '3', text)\n",
    "text = re.sub('넷', '4', text)\n",
    "text = re.sub('네', '4', text)\n",
    "text = re.sub('다섯', '5', text)\n",
    "text = re.sub('여섯', '6', text)\n",
    "text = re.sub('일곱', '7', text)\n",
    "text = re.sub('여덟', '8', text)\n",
    "text = re.sub('아홉', '9', text)\n",
    "if len(text) == 1:\n",
    "    text = re.sub('열', '10', text)\n",
    "    text = re.sub('서른', '30', text)\n",
    "else:\n",
    "    text = re.sub('열', '1', text)\n",
    "    text = re.sub('서른', '3', text)\n",
    "text = re.sub('스무', '20', text)\n",
    "text = re.sub('스물', '2', text)\n",
    "print(text)"
   ]
  },
  {
   "cell_type": "code",
   "execution_count": null,
   "id": "c846d6e5",
   "metadata": {},
   "outputs": [],
   "source": []
  }
 ],
 "metadata": {
  "kernelspec": {
   "display_name": "Python 3 (ipykernel)",
   "language": "python",
   "name": "python3"
  },
  "language_info": {
   "codemirror_mode": {
    "name": "ipython",
    "version": 3
   },
   "file_extension": ".py",
   "mimetype": "text/x-python",
   "name": "python",
   "nbconvert_exporter": "python",
   "pygments_lexer": "ipython3",
   "version": "3.9.7"
  }
 },
 "nbformat": 4,
 "nbformat_minor": 5
}
