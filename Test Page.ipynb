{
 "cells": [
  {
   "cell_type": "code",
   "execution_count": 1,
   "id": "d885027b",
   "metadata": {},
   "outputs": [
    {
     "name": "stderr",
     "output_type": "stream",
     "text": [
      "C:\\PythonProject\\ChatTime\\src\\model.py:21: FutureWarning: The default value of regex will change from True to False in a future version.\n",
      "  self.train_data['embedding'] = self.train_data['embedding'].str.replace('\\[ ', '[')\n",
      "C:\\PythonProject\\ChatTime\\src\\model.py:22: FutureWarning: The default value of regex will change from True to False in a future version.\n",
      "  self.train_data['embedding'] = self.train_data['embedding'].str.replace(' \\]', ']')\n"
     ]
    }
   ],
   "source": [
    "from src.model import SBERT\n",
    "ood_answer = SBERT()"
   ]
  },
  {
   "cell_type": "code",
   "execution_count": 5,
   "id": "e5e4fa10",
   "metadata": {},
   "outputs": [
    {
     "data": {
      "text/plain": [
       "'위로봇이요.'"
      ]
     },
     "execution_count": 5,
     "metadata": {},
     "output_type": "execute_result"
    }
   ],
   "source": [
    "text = \"what's your name\"\n",
    "ood_answer.return_answer(text)"
   ]
  },
  {
   "cell_type": "code",
   "execution_count": 6,
   "id": "a6178195",
   "metadata": {},
   "outputs": [
    {
     "data": {
      "text/plain": [
       "0.5045658646919345"
      ]
     },
     "execution_count": 6,
     "metadata": {},
     "output_type": "execute_result"
    }
   ],
   "source": [
    "ood_answer.train_data['score'][0]"
   ]
  },
  {
   "cell_type": "code",
   "execution_count": 7,
   "id": "414cfef5",
   "metadata": {},
   "outputs": [
    {
     "name": "stderr",
     "output_type": "stream",
     "text": [
      "C:\\PythonProject\\ChatTime\\src\\model.py:21: FutureWarning: The default value of regex will change from True to False in a future version.\n",
      "  self.train_data['embedding'] = self.train_data['embedding'].str.replace('\\[ ', '[')\n",
      "C:\\PythonProject\\ChatTime\\src\\model.py:22: FutureWarning: The default value of regex will change from True to False in a future version.\n",
      "  self.train_data['embedding'] = self.train_data['embedding'].str.replace(' \\]', ']')\n"
     ]
    }
   ],
   "source": [
    "from src.NLG import NaturalLanguageGenerator\n",
    "nlg = NaturalLanguageGenerator()"
   ]
  },
  {
   "cell_type": "code",
   "execution_count": 9,
   "id": "0091d170",
   "metadata": {},
   "outputs": [
    {
     "name": "stdout",
     "output_type": "stream",
     "text": [
      "intent: ood\n",
      "predict: [[0, 0, 0]]\n"
     ]
    },
    {
     "data": {
      "text/plain": [
       "'위로봇이요.'"
      ]
     },
     "execution_count": 9,
     "metadata": {},
     "output_type": "execute_result"
    }
   ],
   "source": [
    "text = \"넌 이름이 뭐니\"\n",
    "nlg.run_nlg(text)"
   ]
  },
  {
   "cell_type": "code",
   "execution_count": null,
   "id": "5d97724d",
   "metadata": {},
   "outputs": [],
   "source": []
  }
 ],
 "metadata": {
  "kernelspec": {
   "display_name": "Python 3 (ipykernel)",
   "language": "python",
   "name": "python3"
  },
  "language_info": {
   "codemirror_mode": {
    "name": "ipython",
    "version": 3
   },
   "file_extension": ".py",
   "mimetype": "text/x-python",
   "name": "python",
   "nbconvert_exporter": "python",
   "pygments_lexer": "ipython3",
   "version": "3.9.7"
  }
 },
 "nbformat": 4,
 "nbformat_minor": 5
}
